{
 "cells": [
  {
   "cell_type": "code",
   "execution_count": 349,
   "id": "4e60b7d7",
   "metadata": {},
   "outputs": [],
   "source": [
    "#Adding Panadas dependency\n",
    "import pandas as pd\n",
    "import os"
   ]
  },
  {
   "cell_type": "code",
   "execution_count": 350,
   "id": "5b08af2d",
   "metadata": {},
   "outputs": [],
   "source": [
    "#Load CSV Files\n",
    "school_data_to_load = os.path.join(\"Resources\",\"schools_complete.csv\")\n",
    "student_data_to_load = os.path.join(\"Resources\",\"students_complete.csv\")"
   ]
  },
  {
   "cell_type": "code",
   "execution_count": 351,
   "id": "b7f00b06",
   "metadata": {},
   "outputs": [
    {
     "data": {
      "text/plain": "   School ID            school_name      type  size   budget\n0          0      Huang High School  District  2917  1910635\n1          1   Figueroa High School  District  2949  1884411\n2          2    Shelton High School   Charter  1761  1056600\n3          3  Hernandez High School  District  4635  3022020\n4          4    Griffin High School   Charter  1468   917500",
      "text/html": "<div>\n<style scoped>\n    .dataframe tbody tr th:only-of-type {\n        vertical-align: middle;\n    }\n\n    .dataframe tbody tr th {\n        vertical-align: top;\n    }\n\n    .dataframe thead th {\n        text-align: right;\n    }\n</style>\n<table border=\"1\" class=\"dataframe\">\n  <thead>\n    <tr style=\"text-align: right;\">\n      <th></th>\n      <th>School ID</th>\n      <th>school_name</th>\n      <th>type</th>\n      <th>size</th>\n      <th>budget</th>\n    </tr>\n  </thead>\n  <tbody>\n    <tr>\n      <th>0</th>\n      <td>0</td>\n      <td>Huang High School</td>\n      <td>District</td>\n      <td>2917</td>\n      <td>1910635</td>\n    </tr>\n    <tr>\n      <th>1</th>\n      <td>1</td>\n      <td>Figueroa High School</td>\n      <td>District</td>\n      <td>2949</td>\n      <td>1884411</td>\n    </tr>\n    <tr>\n      <th>2</th>\n      <td>2</td>\n      <td>Shelton High School</td>\n      <td>Charter</td>\n      <td>1761</td>\n      <td>1056600</td>\n    </tr>\n    <tr>\n      <th>3</th>\n      <td>3</td>\n      <td>Hernandez High School</td>\n      <td>District</td>\n      <td>4635</td>\n      <td>3022020</td>\n    </tr>\n    <tr>\n      <th>4</th>\n      <td>4</td>\n      <td>Griffin High School</td>\n      <td>Charter</td>\n      <td>1468</td>\n      <td>917500</td>\n    </tr>\n  </tbody>\n</table>\n</div>"
     },
     "execution_count": 351,
     "metadata": {},
     "output_type": "execute_result"
    }
   ],
   "source": [
    "#Reading CSV Files\n",
    "studentDataDf = pd.read_csv(student_data_to_load)\n",
    "schoolDataDf = pd.read_csv(school_data_to_load)\n",
    "\n",
    "#Skipping header row in CSV files\n",
    "schoolDataDf.head()\n"
   ]
  },
  {
   "cell_type": "code",
   "execution_count": 352,
   "id": "704c6155",
   "metadata": {},
   "outputs": [
    {
     "data": {
      "text/plain": "   Student ID       student_name gender grade        school_name  \\\n0           0       Paul Bradley      M   9th  Huang High School   \n1           1       Victor Smith      M  12th  Huang High School   \n2           2    Kevin Rodriguez      M  12th  Huang High School   \n3           3  Dr. Richard Scott      M  12th  Huang High School   \n4           4         Bonnie Ray      F   9th  Huang High School   \n\n   reading_score  math_score  \n0             66          79  \n1             94          61  \n2             90          60  \n3             67          58  \n4             97          84  ",
      "text/html": "<div>\n<style scoped>\n    .dataframe tbody tr th:only-of-type {\n        vertical-align: middle;\n    }\n\n    .dataframe tbody tr th {\n        vertical-align: top;\n    }\n\n    .dataframe thead th {\n        text-align: right;\n    }\n</style>\n<table border=\"1\" class=\"dataframe\">\n  <thead>\n    <tr style=\"text-align: right;\">\n      <th></th>\n      <th>Student ID</th>\n      <th>student_name</th>\n      <th>gender</th>\n      <th>grade</th>\n      <th>school_name</th>\n      <th>reading_score</th>\n      <th>math_score</th>\n    </tr>\n  </thead>\n  <tbody>\n    <tr>\n      <th>0</th>\n      <td>0</td>\n      <td>Paul Bradley</td>\n      <td>M</td>\n      <td>9th</td>\n      <td>Huang High School</td>\n      <td>66</td>\n      <td>79</td>\n    </tr>\n    <tr>\n      <th>1</th>\n      <td>1</td>\n      <td>Victor Smith</td>\n      <td>M</td>\n      <td>12th</td>\n      <td>Huang High School</td>\n      <td>94</td>\n      <td>61</td>\n    </tr>\n    <tr>\n      <th>2</th>\n      <td>2</td>\n      <td>Kevin Rodriguez</td>\n      <td>M</td>\n      <td>12th</td>\n      <td>Huang High School</td>\n      <td>90</td>\n      <td>60</td>\n    </tr>\n    <tr>\n      <th>3</th>\n      <td>3</td>\n      <td>Dr. Richard Scott</td>\n      <td>M</td>\n      <td>12th</td>\n      <td>Huang High School</td>\n      <td>67</td>\n      <td>58</td>\n    </tr>\n    <tr>\n      <th>4</th>\n      <td>4</td>\n      <td>Bonnie Ray</td>\n      <td>F</td>\n      <td>9th</td>\n      <td>Huang High School</td>\n      <td>97</td>\n      <td>84</td>\n    </tr>\n  </tbody>\n</table>\n</div>"
     },
     "execution_count": 352,
     "metadata": {},
     "output_type": "execute_result"
    }
   ],
   "source": [
    "studentDataDf.head()"
   ]
  },
  {
   "cell_type": "code",
   "execution_count": 353,
   "id": "097c1849",
   "metadata": {},
   "outputs": [
    {
     "data": {
      "text/plain": "School ID      15\nschool_name    15\ntype           15\nsize           15\nbudget         15\ndtype: int64"
     },
     "execution_count": 353,
     "metadata": {},
     "output_type": "execute_result"
    }
   ],
   "source": [
    "#Checking for missing data with \"count()\"\n",
    "schoolDataDf.count()"
   ]
  },
  {
   "cell_type": "code",
   "execution_count": 354,
   "id": "e7da2264",
   "metadata": {},
   "outputs": [
    {
     "data": {
      "text/plain": "Student ID       39170\nstudent_name     39170\ngender           39170\ngrade            39170\nschool_name      39170\nreading_score    39170\nmath_score       39170\ndtype: int64"
     },
     "execution_count": 354,
     "metadata": {},
     "output_type": "execute_result"
    }
   ],
   "source": [
    "#Checking for missing data with \"count()\"\n",
    "studentDataDf.count()"
   ]
  },
  {
   "cell_type": "code",
   "execution_count": 355,
   "id": "abda462a",
   "metadata": {},
   "outputs": [
    {
     "data": {
      "text/plain": "    School ID  school_name   type   size  budget\n0       False        False  False  False   False\n1       False        False  False  False   False\n2       False        False  False  False   False\n3       False        False  False  False   False\n4       False        False  False  False   False\n5       False        False  False  False   False\n6       False        False  False  False   False\n7       False        False  False  False   False\n8       False        False  False  False   False\n9       False        False  False  False   False\n10      False        False  False  False   False\n11      False        False  False  False   False\n12      False        False  False  False   False\n13      False        False  False  False   False\n14      False        False  False  False   False",
      "text/html": "<div>\n<style scoped>\n    .dataframe tbody tr th:only-of-type {\n        vertical-align: middle;\n    }\n\n    .dataframe tbody tr th {\n        vertical-align: top;\n    }\n\n    .dataframe thead th {\n        text-align: right;\n    }\n</style>\n<table border=\"1\" class=\"dataframe\">\n  <thead>\n    <tr style=\"text-align: right;\">\n      <th></th>\n      <th>School ID</th>\n      <th>school_name</th>\n      <th>type</th>\n      <th>size</th>\n      <th>budget</th>\n    </tr>\n  </thead>\n  <tbody>\n    <tr>\n      <th>0</th>\n      <td>False</td>\n      <td>False</td>\n      <td>False</td>\n      <td>False</td>\n      <td>False</td>\n    </tr>\n    <tr>\n      <th>1</th>\n      <td>False</td>\n      <td>False</td>\n      <td>False</td>\n      <td>False</td>\n      <td>False</td>\n    </tr>\n    <tr>\n      <th>2</th>\n      <td>False</td>\n      <td>False</td>\n      <td>False</td>\n      <td>False</td>\n      <td>False</td>\n    </tr>\n    <tr>\n      <th>3</th>\n      <td>False</td>\n      <td>False</td>\n      <td>False</td>\n      <td>False</td>\n      <td>False</td>\n    </tr>\n    <tr>\n      <th>4</th>\n      <td>False</td>\n      <td>False</td>\n      <td>False</td>\n      <td>False</td>\n      <td>False</td>\n    </tr>\n    <tr>\n      <th>5</th>\n      <td>False</td>\n      <td>False</td>\n      <td>False</td>\n      <td>False</td>\n      <td>False</td>\n    </tr>\n    <tr>\n      <th>6</th>\n      <td>False</td>\n      <td>False</td>\n      <td>False</td>\n      <td>False</td>\n      <td>False</td>\n    </tr>\n    <tr>\n      <th>7</th>\n      <td>False</td>\n      <td>False</td>\n      <td>False</td>\n      <td>False</td>\n      <td>False</td>\n    </tr>\n    <tr>\n      <th>8</th>\n      <td>False</td>\n      <td>False</td>\n      <td>False</td>\n      <td>False</td>\n      <td>False</td>\n    </tr>\n    <tr>\n      <th>9</th>\n      <td>False</td>\n      <td>False</td>\n      <td>False</td>\n      <td>False</td>\n      <td>False</td>\n    </tr>\n    <tr>\n      <th>10</th>\n      <td>False</td>\n      <td>False</td>\n      <td>False</td>\n      <td>False</td>\n      <td>False</td>\n    </tr>\n    <tr>\n      <th>11</th>\n      <td>False</td>\n      <td>False</td>\n      <td>False</td>\n      <td>False</td>\n      <td>False</td>\n    </tr>\n    <tr>\n      <th>12</th>\n      <td>False</td>\n      <td>False</td>\n      <td>False</td>\n      <td>False</td>\n      <td>False</td>\n    </tr>\n    <tr>\n      <th>13</th>\n      <td>False</td>\n      <td>False</td>\n      <td>False</td>\n      <td>False</td>\n      <td>False</td>\n    </tr>\n    <tr>\n      <th>14</th>\n      <td>False</td>\n      <td>False</td>\n      <td>False</td>\n      <td>False</td>\n      <td>False</td>\n    </tr>\n  </tbody>\n</table>\n</div>"
     },
     "execution_count": 355,
     "metadata": {},
     "output_type": "execute_result"
    }
   ],
   "source": [
    "#Checking for missing data with \"isnull()\"\n",
    "schoolDataDf.isnull()"
   ]
  },
  {
   "cell_type": "code",
   "execution_count": 356,
   "id": "a1bbd15a",
   "metadata": {},
   "outputs": [
    {
     "data": {
      "text/plain": "       Student ID  student_name  gender  grade  school_name  reading_score  \\\n0           False         False   False  False        False          False   \n1           False         False   False  False        False          False   \n2           False         False   False  False        False          False   \n3           False         False   False  False        False          False   \n4           False         False   False  False        False          False   \n...           ...           ...     ...    ...          ...            ...   \n39165       False         False   False  False        False          False   \n39166       False         False   False  False        False          False   \n39167       False         False   False  False        False          False   \n39168       False         False   False  False        False          False   \n39169       False         False   False  False        False          False   \n\n       math_score  \n0           False  \n1           False  \n2           False  \n3           False  \n4           False  \n...           ...  \n39165       False  \n39166       False  \n39167       False  \n39168       False  \n39169       False  \n\n[39170 rows x 7 columns]",
      "text/html": "<div>\n<style scoped>\n    .dataframe tbody tr th:only-of-type {\n        vertical-align: middle;\n    }\n\n    .dataframe tbody tr th {\n        vertical-align: top;\n    }\n\n    .dataframe thead th {\n        text-align: right;\n    }\n</style>\n<table border=\"1\" class=\"dataframe\">\n  <thead>\n    <tr style=\"text-align: right;\">\n      <th></th>\n      <th>Student ID</th>\n      <th>student_name</th>\n      <th>gender</th>\n      <th>grade</th>\n      <th>school_name</th>\n      <th>reading_score</th>\n      <th>math_score</th>\n    </tr>\n  </thead>\n  <tbody>\n    <tr>\n      <th>0</th>\n      <td>False</td>\n      <td>False</td>\n      <td>False</td>\n      <td>False</td>\n      <td>False</td>\n      <td>False</td>\n      <td>False</td>\n    </tr>\n    <tr>\n      <th>1</th>\n      <td>False</td>\n      <td>False</td>\n      <td>False</td>\n      <td>False</td>\n      <td>False</td>\n      <td>False</td>\n      <td>False</td>\n    </tr>\n    <tr>\n      <th>2</th>\n      <td>False</td>\n      <td>False</td>\n      <td>False</td>\n      <td>False</td>\n      <td>False</td>\n      <td>False</td>\n      <td>False</td>\n    </tr>\n    <tr>\n      <th>3</th>\n      <td>False</td>\n      <td>False</td>\n      <td>False</td>\n      <td>False</td>\n      <td>False</td>\n      <td>False</td>\n      <td>False</td>\n    </tr>\n    <tr>\n      <th>4</th>\n      <td>False</td>\n      <td>False</td>\n      <td>False</td>\n      <td>False</td>\n      <td>False</td>\n      <td>False</td>\n      <td>False</td>\n    </tr>\n    <tr>\n      <th>...</th>\n      <td>...</td>\n      <td>...</td>\n      <td>...</td>\n      <td>...</td>\n      <td>...</td>\n      <td>...</td>\n      <td>...</td>\n    </tr>\n    <tr>\n      <th>39165</th>\n      <td>False</td>\n      <td>False</td>\n      <td>False</td>\n      <td>False</td>\n      <td>False</td>\n      <td>False</td>\n      <td>False</td>\n    </tr>\n    <tr>\n      <th>39166</th>\n      <td>False</td>\n      <td>False</td>\n      <td>False</td>\n      <td>False</td>\n      <td>False</td>\n      <td>False</td>\n      <td>False</td>\n    </tr>\n    <tr>\n      <th>39167</th>\n      <td>False</td>\n      <td>False</td>\n      <td>False</td>\n      <td>False</td>\n      <td>False</td>\n      <td>False</td>\n      <td>False</td>\n    </tr>\n    <tr>\n      <th>39168</th>\n      <td>False</td>\n      <td>False</td>\n      <td>False</td>\n      <td>False</td>\n      <td>False</td>\n      <td>False</td>\n      <td>False</td>\n    </tr>\n    <tr>\n      <th>39169</th>\n      <td>False</td>\n      <td>False</td>\n      <td>False</td>\n      <td>False</td>\n      <td>False</td>\n      <td>False</td>\n      <td>False</td>\n    </tr>\n  </tbody>\n</table>\n<p>39170 rows × 7 columns</p>\n</div>"
     },
     "execution_count": 356,
     "metadata": {},
     "output_type": "execute_result"
    }
   ],
   "source": [
    "#Checking for missing data with \"isnull()\"\n",
    "studentDataDf.isnull()"
   ]
  },
  {
   "cell_type": "code",
   "execution_count": 357,
   "id": "cb6917b6",
   "metadata": {},
   "outputs": [
    {
     "data": {
      "text/plain": "Student ID       0\nstudent_name     0\ngender           0\ngrade            0\nschool_name      0\nreading_score    0\nmath_score       0\ndtype: int64"
     },
     "execution_count": 357,
     "metadata": {},
     "output_type": "execute_result"
    }
   ],
   "source": [
    "#Checking for missing data by chaining \"sum()\" with \"isnull()\"\n",
    "studentDataDf.isnull().sum()"
   ]
  },
  {
   "cell_type": "code",
   "execution_count": 358,
   "id": "e74d5720",
   "metadata": {},
   "outputs": [
    {
     "data": {
      "text/plain": "    School ID  school_name  type  size  budget\n0        True         True  True  True    True\n1        True         True  True  True    True\n2        True         True  True  True    True\n3        True         True  True  True    True\n4        True         True  True  True    True\n5        True         True  True  True    True\n6        True         True  True  True    True\n7        True         True  True  True    True\n8        True         True  True  True    True\n9        True         True  True  True    True\n10       True         True  True  True    True\n11       True         True  True  True    True\n12       True         True  True  True    True\n13       True         True  True  True    True\n14       True         True  True  True    True",
      "text/html": "<div>\n<style scoped>\n    .dataframe tbody tr th:only-of-type {\n        vertical-align: middle;\n    }\n\n    .dataframe tbody tr th {\n        vertical-align: top;\n    }\n\n    .dataframe thead th {\n        text-align: right;\n    }\n</style>\n<table border=\"1\" class=\"dataframe\">\n  <thead>\n    <tr style=\"text-align: right;\">\n      <th></th>\n      <th>School ID</th>\n      <th>school_name</th>\n      <th>type</th>\n      <th>size</th>\n      <th>budget</th>\n    </tr>\n  </thead>\n  <tbody>\n    <tr>\n      <th>0</th>\n      <td>True</td>\n      <td>True</td>\n      <td>True</td>\n      <td>True</td>\n      <td>True</td>\n    </tr>\n    <tr>\n      <th>1</th>\n      <td>True</td>\n      <td>True</td>\n      <td>True</td>\n      <td>True</td>\n      <td>True</td>\n    </tr>\n    <tr>\n      <th>2</th>\n      <td>True</td>\n      <td>True</td>\n      <td>True</td>\n      <td>True</td>\n      <td>True</td>\n    </tr>\n    <tr>\n      <th>3</th>\n      <td>True</td>\n      <td>True</td>\n      <td>True</td>\n      <td>True</td>\n      <td>True</td>\n    </tr>\n    <tr>\n      <th>4</th>\n      <td>True</td>\n      <td>True</td>\n      <td>True</td>\n      <td>True</td>\n      <td>True</td>\n    </tr>\n    <tr>\n      <th>5</th>\n      <td>True</td>\n      <td>True</td>\n      <td>True</td>\n      <td>True</td>\n      <td>True</td>\n    </tr>\n    <tr>\n      <th>6</th>\n      <td>True</td>\n      <td>True</td>\n      <td>True</td>\n      <td>True</td>\n      <td>True</td>\n    </tr>\n    <tr>\n      <th>7</th>\n      <td>True</td>\n      <td>True</td>\n      <td>True</td>\n      <td>True</td>\n      <td>True</td>\n    </tr>\n    <tr>\n      <th>8</th>\n      <td>True</td>\n      <td>True</td>\n      <td>True</td>\n      <td>True</td>\n      <td>True</td>\n    </tr>\n    <tr>\n      <th>9</th>\n      <td>True</td>\n      <td>True</td>\n      <td>True</td>\n      <td>True</td>\n      <td>True</td>\n    </tr>\n    <tr>\n      <th>10</th>\n      <td>True</td>\n      <td>True</td>\n      <td>True</td>\n      <td>True</td>\n      <td>True</td>\n    </tr>\n    <tr>\n      <th>11</th>\n      <td>True</td>\n      <td>True</td>\n      <td>True</td>\n      <td>True</td>\n      <td>True</td>\n    </tr>\n    <tr>\n      <th>12</th>\n      <td>True</td>\n      <td>True</td>\n      <td>True</td>\n      <td>True</td>\n      <td>True</td>\n    </tr>\n    <tr>\n      <th>13</th>\n      <td>True</td>\n      <td>True</td>\n      <td>True</td>\n      <td>True</td>\n      <td>True</td>\n    </tr>\n    <tr>\n      <th>14</th>\n      <td>True</td>\n      <td>True</td>\n      <td>True</td>\n      <td>True</td>\n      <td>True</td>\n    </tr>\n  </tbody>\n</table>\n</div>"
     },
     "execution_count": 358,
     "metadata": {},
     "output_type": "execute_result"
    }
   ],
   "source": [
    "#Checking for missing data with \"notnull()\"\n",
    "schoolDataDf.notnull()"
   ]
  },
  {
   "cell_type": "code",
   "execution_count": 359,
   "id": "77fd6ba3",
   "metadata": {},
   "outputs": [
    {
     "data": {
      "text/plain": "Student ID       39170\nstudent_name     39170\ngender           39170\ngrade            39170\nschool_name      39170\nreading_score    39170\nmath_score       39170\ndtype: int64"
     },
     "execution_count": 359,
     "metadata": {},
     "output_type": "execute_result"
    }
   ],
   "source": [
    "#Checking for missing data by chaining \"sum()\" with \"notnull()\"\n",
    "studentDataDf.notnull().sum()"
   ]
  },
  {
   "cell_type": "code",
   "execution_count": 360,
   "id": "a5f7aecf",
   "metadata": {},
   "outputs": [
    {
     "data": {
      "text/plain": "Student ID        int64\nstudent_name     object\ngender           object\ngrade            object\nschool_name      object\nreading_score     int64\nmath_score        int64\ndtype: object"
     },
     "execution_count": 360,
     "metadata": {},
     "output_type": "execute_result"
    }
   ],
   "source": [
    "#Checking column data types\n",
    "studentDataDf.dtypes"
   ]
  },
  {
   "cell_type": "code",
   "execution_count": 361,
   "id": "87313e6e",
   "metadata": {},
   "outputs": [
    {
     "data": {
      "text/plain": "School ID       int64\nschool_name    object\ntype           object\nsize            int64\nbudget          int64\ndtype: object"
     },
     "execution_count": 361,
     "metadata": {},
     "output_type": "execute_result"
    }
   ],
   "source": [
    "schoolDataDf.dtypes"
   ]
  },
  {
   "cell_type": "code",
   "execution_count": 362,
   "id": "77a450da",
   "metadata": {},
   "outputs": [
    {
     "data": {
      "text/plain": "       Student ID     student_name gender grade         school_name  \\\n0               0     Paul Bradley      M   9th   Huang High School   \n1               1     Victor Smith      M  12th   Huang High School   \n2               2  Kevin Rodriguez      M  12th   Huang High School   \n3               3    Richard Scott      M  12th   Huang High School   \n4               4       Bonnie Ray      F   9th   Huang High School   \n...           ...              ...    ...   ...                 ...   \n39165       39165     Donna Howard      F  12th  Thomas High School   \n39166       39166        Dawn Bell      F  10th  Thomas High School   \n39167       39167   Rebecca Tanner      F   9th  Thomas High School   \n39168       39168     Desiree Kidd      F  10th  Thomas High School   \n39169       39169  Carolyn Jackson      F  11th  Thomas High School   \n\n       reading_score  math_score  \n0                 66          79  \n1                 94          61  \n2                 90          60  \n3                 67          58  \n4                 97          84  \n...              ...         ...  \n39165             99          90  \n39166             95          70  \n39167             73          84  \n39168             99          90  \n39169             95          75  \n\n[39170 rows x 7 columns]",
      "text/html": "<div>\n<style scoped>\n    .dataframe tbody tr th:only-of-type {\n        vertical-align: middle;\n    }\n\n    .dataframe tbody tr th {\n        vertical-align: top;\n    }\n\n    .dataframe thead th {\n        text-align: right;\n    }\n</style>\n<table border=\"1\" class=\"dataframe\">\n  <thead>\n    <tr style=\"text-align: right;\">\n      <th></th>\n      <th>Student ID</th>\n      <th>student_name</th>\n      <th>gender</th>\n      <th>grade</th>\n      <th>school_name</th>\n      <th>reading_score</th>\n      <th>math_score</th>\n    </tr>\n  </thead>\n  <tbody>\n    <tr>\n      <th>0</th>\n      <td>0</td>\n      <td>Paul Bradley</td>\n      <td>M</td>\n      <td>9th</td>\n      <td>Huang High School</td>\n      <td>66</td>\n      <td>79</td>\n    </tr>\n    <tr>\n      <th>1</th>\n      <td>1</td>\n      <td>Victor Smith</td>\n      <td>M</td>\n      <td>12th</td>\n      <td>Huang High School</td>\n      <td>94</td>\n      <td>61</td>\n    </tr>\n    <tr>\n      <th>2</th>\n      <td>2</td>\n      <td>Kevin Rodriguez</td>\n      <td>M</td>\n      <td>12th</td>\n      <td>Huang High School</td>\n      <td>90</td>\n      <td>60</td>\n    </tr>\n    <tr>\n      <th>3</th>\n      <td>3</td>\n      <td>Richard Scott</td>\n      <td>M</td>\n      <td>12th</td>\n      <td>Huang High School</td>\n      <td>67</td>\n      <td>58</td>\n    </tr>\n    <tr>\n      <th>4</th>\n      <td>4</td>\n      <td>Bonnie Ray</td>\n      <td>F</td>\n      <td>9th</td>\n      <td>Huang High School</td>\n      <td>97</td>\n      <td>84</td>\n    </tr>\n    <tr>\n      <th>...</th>\n      <td>...</td>\n      <td>...</td>\n      <td>...</td>\n      <td>...</td>\n      <td>...</td>\n      <td>...</td>\n      <td>...</td>\n    </tr>\n    <tr>\n      <th>39165</th>\n      <td>39165</td>\n      <td>Donna Howard</td>\n      <td>F</td>\n      <td>12th</td>\n      <td>Thomas High School</td>\n      <td>99</td>\n      <td>90</td>\n    </tr>\n    <tr>\n      <th>39166</th>\n      <td>39166</td>\n      <td>Dawn Bell</td>\n      <td>F</td>\n      <td>10th</td>\n      <td>Thomas High School</td>\n      <td>95</td>\n      <td>70</td>\n    </tr>\n    <tr>\n      <th>39167</th>\n      <td>39167</td>\n      <td>Rebecca Tanner</td>\n      <td>F</td>\n      <td>9th</td>\n      <td>Thomas High School</td>\n      <td>73</td>\n      <td>84</td>\n    </tr>\n    <tr>\n      <th>39168</th>\n      <td>39168</td>\n      <td>Desiree Kidd</td>\n      <td>F</td>\n      <td>10th</td>\n      <td>Thomas High School</td>\n      <td>99</td>\n      <td>90</td>\n    </tr>\n    <tr>\n      <th>39169</th>\n      <td>39169</td>\n      <td>Carolyn Jackson</td>\n      <td>F</td>\n      <td>11th</td>\n      <td>Thomas High School</td>\n      <td>95</td>\n      <td>75</td>\n    </tr>\n  </tbody>\n</table>\n<p>39170 rows × 7 columns</p>\n</div>"
     },
     "execution_count": 362,
     "metadata": {},
     "output_type": "execute_result"
    }
   ],
   "source": [
    "# Adding each prefix and suffix to remove to a list.\n",
    "prefixes_suffixes = [\"Dr. \", \"Mr. \",\"Ms. \", \"Mrs. \", \"Miss \", \" MD\", \" DDS\", \" DVM\", \" PhD\"]\n",
    "\n",
    "#Iterating through each \"student_name\",\n",
    "#checking for and remove any prefixes or suffixes\n",
    "for words in prefixes_suffixes:\n",
    "    #replacing prefix or suffix with nothing\n",
    "    studentDataDf['student_name'] = studentDataDf['student_name'].str.replace(words,'',regex=False)\n",
    "studentDataDf"
   ]
  },
  {
   "cell_type": "code",
   "execution_count": 363,
   "id": "dbf1f638",
   "metadata": {},
   "outputs": [
    {
     "data": {
      "text/plain": "   Student ID     student_name gender grade        school_name  reading_score  \\\n0           0     Paul Bradley      M   9th  Huang High School             66   \n1           1     Victor Smith      M  12th  Huang High School             94   \n2           2  Kevin Rodriguez      M  12th  Huang High School             90   \n3           3    Richard Scott      M  12th  Huang High School             67   \n4           4       Bonnie Ray      F   9th  Huang High School             97   \n\n   math_score  School ID      type  size   budget  \n0          79          0  District  2917  1910635  \n1          61          0  District  2917  1910635  \n2          60          0  District  2917  1910635  \n3          58          0  District  2917  1910635  \n4          84          0  District  2917  1910635  ",
      "text/html": "<div>\n<style scoped>\n    .dataframe tbody tr th:only-of-type {\n        vertical-align: middle;\n    }\n\n    .dataframe tbody tr th {\n        vertical-align: top;\n    }\n\n    .dataframe thead th {\n        text-align: right;\n    }\n</style>\n<table border=\"1\" class=\"dataframe\">\n  <thead>\n    <tr style=\"text-align: right;\">\n      <th></th>\n      <th>Student ID</th>\n      <th>student_name</th>\n      <th>gender</th>\n      <th>grade</th>\n      <th>school_name</th>\n      <th>reading_score</th>\n      <th>math_score</th>\n      <th>School ID</th>\n      <th>type</th>\n      <th>size</th>\n      <th>budget</th>\n    </tr>\n  </thead>\n  <tbody>\n    <tr>\n      <th>0</th>\n      <td>0</td>\n      <td>Paul Bradley</td>\n      <td>M</td>\n      <td>9th</td>\n      <td>Huang High School</td>\n      <td>66</td>\n      <td>79</td>\n      <td>0</td>\n      <td>District</td>\n      <td>2917</td>\n      <td>1910635</td>\n    </tr>\n    <tr>\n      <th>1</th>\n      <td>1</td>\n      <td>Victor Smith</td>\n      <td>M</td>\n      <td>12th</td>\n      <td>Huang High School</td>\n      <td>94</td>\n      <td>61</td>\n      <td>0</td>\n      <td>District</td>\n      <td>2917</td>\n      <td>1910635</td>\n    </tr>\n    <tr>\n      <th>2</th>\n      <td>2</td>\n      <td>Kevin Rodriguez</td>\n      <td>M</td>\n      <td>12th</td>\n      <td>Huang High School</td>\n      <td>90</td>\n      <td>60</td>\n      <td>0</td>\n      <td>District</td>\n      <td>2917</td>\n      <td>1910635</td>\n    </tr>\n    <tr>\n      <th>3</th>\n      <td>3</td>\n      <td>Richard Scott</td>\n      <td>M</td>\n      <td>12th</td>\n      <td>Huang High School</td>\n      <td>67</td>\n      <td>58</td>\n      <td>0</td>\n      <td>District</td>\n      <td>2917</td>\n      <td>1910635</td>\n    </tr>\n    <tr>\n      <th>4</th>\n      <td>4</td>\n      <td>Bonnie Ray</td>\n      <td>F</td>\n      <td>9th</td>\n      <td>Huang High School</td>\n      <td>97</td>\n      <td>84</td>\n      <td>0</td>\n      <td>District</td>\n      <td>2917</td>\n      <td>1910635</td>\n    </tr>\n  </tbody>\n</table>\n</div>"
     },
     "execution_count": 363,
     "metadata": {},
     "output_type": "execute_result"
    }
   ],
   "source": [
    "# Combine the data into a single dataset.\n",
    "schoolDataCompleteDf = pd.merge(studentDataDf, schoolDataDf, on=['school_name','school_name'])\n",
    "schoolDataCompleteDf.head()"
   ]
  },
  {
   "cell_type": "code",
   "execution_count": 364,
   "outputs": [
    {
     "data": {
      "text/plain": "39170"
     },
     "execution_count": 364,
     "metadata": {},
     "output_type": "execute_result"
    }
   ],
   "source": [
    "studentCount = schoolDataCompleteDf['Student ID'].count()\n",
    "studentCount"
   ],
   "metadata": {
    "collapsed": false,
    "pycharm": {
     "name": "#%%\n"
    }
   }
  },
  {
   "cell_type": "code",
   "execution_count": 365,
   "outputs": [
    {
     "data": {
      "text/plain": "15"
     },
     "execution_count": 365,
     "metadata": {},
     "output_type": "execute_result"
    }
   ],
   "source": [
    "# Calculate the total number of schools.\n",
    "schoolCount = schoolDataDf['school_name'].count()\n",
    "schoolCount"
   ],
   "metadata": {
    "collapsed": false,
    "pycharm": {
     "name": "#%%\n"
    }
   }
  },
  {
   "cell_type": "code",
   "execution_count": 366,
   "outputs": [
    {
     "data": {
      "text/plain": "15"
     },
     "execution_count": 366,
     "metadata": {},
     "output_type": "execute_result"
    }
   ],
   "source": [
    "schoolCount2 = schoolDataCompleteDf['school_name'].unique()\n",
    "len(schoolCount2)"
   ],
   "metadata": {
    "collapsed": false,
    "pycharm": {
     "name": "#%%\n"
    }
   }
  },
  {
   "cell_type": "code",
   "execution_count": 367,
   "outputs": [
    {
     "data": {
      "text/plain": "24649428"
     },
     "execution_count": 367,
     "metadata": {},
     "output_type": "execute_result"
    }
   ],
   "source": [
    "# Calculate total budget\n",
    "totalBudget = schoolDataDf['budget'].sum()\n",
    "totalBudget"
   ],
   "metadata": {
    "collapsed": false,
    "pycharm": {
     "name": "#%%\n"
    }
   }
  },
  {
   "cell_type": "code",
   "execution_count": 368,
   "outputs": [
    {
     "data": {
      "text/plain": "81.87784018381414"
     },
     "execution_count": 368,
     "metadata": {},
     "output_type": "execute_result"
    }
   ],
   "source": [
    "# Calculate average reading score\n",
    "avgReading = schoolDataCompleteDf['reading_score'].mean()\n",
    "avgReading"
   ],
   "metadata": {
    "collapsed": false,
    "pycharm": {
     "name": "#%%\n"
    }
   }
  },
  {
   "cell_type": "code",
   "execution_count": 369,
   "outputs": [
    {
     "data": {
      "text/plain": "78.98537145774827"
     },
     "execution_count": 369,
     "metadata": {},
     "output_type": "execute_result"
    }
   ],
   "source": [
    "# Calculating average math score\n",
    "avgMath = schoolDataCompleteDf['math_score'].mean()\n",
    "avgMath"
   ],
   "metadata": {
    "collapsed": false,
    "pycharm": {
     "name": "#%%\n"
    }
   }
  },
  {
   "cell_type": "code",
   "execution_count": 370,
   "outputs": [],
   "source": [
    "# Get passing math grades\n",
    "passingMath = schoolDataCompleteDf['math_score'] >= 70"
   ],
   "metadata": {
    "collapsed": false,
    "pycharm": {
     "name": "#%%\n"
    }
   }
  },
  {
   "cell_type": "code",
   "execution_count": 371,
   "outputs": [
    {
     "data": {
      "text/plain": "0     True\n1    False\n2    False\n3    False\n4     True\n5     True\n6     True\n7    False\n8     True\n9     True\nName: math_score, dtype: bool"
     },
     "execution_count": 371,
     "metadata": {},
     "output_type": "execute_result"
    }
   ],
   "source": [
    "passingMath.head(10)"
   ],
   "metadata": {
    "collapsed": false,
    "pycharm": {
     "name": "#%%\n"
    }
   }
  },
  {
   "cell_type": "code",
   "execution_count": 372,
   "outputs": [
    {
     "data": {
      "text/plain": "   Student ID   student_name gender grade        school_name  reading_score  \\\n0           0   Paul Bradley      M   9th  Huang High School             66   \n4           4     Bonnie Ray      F   9th  Huang High School             97   \n5           5  Bryan Miranda      M   9th  Huang High School             94   \n6           6  Sheena Carter      F  11th  Huang High School             82   \n8           8   Michael Roth      M  10th  Huang High School             95   \n\n   math_score  School ID      type  size   budget  \n0          79          0  District  2917  1910635  \n4          84          0  District  2917  1910635  \n5          94          0  District  2917  1910635  \n6          80          0  District  2917  1910635  \n8          87          0  District  2917  1910635  ",
      "text/html": "<div>\n<style scoped>\n    .dataframe tbody tr th:only-of-type {\n        vertical-align: middle;\n    }\n\n    .dataframe tbody tr th {\n        vertical-align: top;\n    }\n\n    .dataframe thead th {\n        text-align: right;\n    }\n</style>\n<table border=\"1\" class=\"dataframe\">\n  <thead>\n    <tr style=\"text-align: right;\">\n      <th></th>\n      <th>Student ID</th>\n      <th>student_name</th>\n      <th>gender</th>\n      <th>grade</th>\n      <th>school_name</th>\n      <th>reading_score</th>\n      <th>math_score</th>\n      <th>School ID</th>\n      <th>type</th>\n      <th>size</th>\n      <th>budget</th>\n    </tr>\n  </thead>\n  <tbody>\n    <tr>\n      <th>0</th>\n      <td>0</td>\n      <td>Paul Bradley</td>\n      <td>M</td>\n      <td>9th</td>\n      <td>Huang High School</td>\n      <td>66</td>\n      <td>79</td>\n      <td>0</td>\n      <td>District</td>\n      <td>2917</td>\n      <td>1910635</td>\n    </tr>\n    <tr>\n      <th>4</th>\n      <td>4</td>\n      <td>Bonnie Ray</td>\n      <td>F</td>\n      <td>9th</td>\n      <td>Huang High School</td>\n      <td>97</td>\n      <td>84</td>\n      <td>0</td>\n      <td>District</td>\n      <td>2917</td>\n      <td>1910635</td>\n    </tr>\n    <tr>\n      <th>5</th>\n      <td>5</td>\n      <td>Bryan Miranda</td>\n      <td>M</td>\n      <td>9th</td>\n      <td>Huang High School</td>\n      <td>94</td>\n      <td>94</td>\n      <td>0</td>\n      <td>District</td>\n      <td>2917</td>\n      <td>1910635</td>\n    </tr>\n    <tr>\n      <th>6</th>\n      <td>6</td>\n      <td>Sheena Carter</td>\n      <td>F</td>\n      <td>11th</td>\n      <td>Huang High School</td>\n      <td>82</td>\n      <td>80</td>\n      <td>0</td>\n      <td>District</td>\n      <td>2917</td>\n      <td>1910635</td>\n    </tr>\n    <tr>\n      <th>8</th>\n      <td>8</td>\n      <td>Michael Roth</td>\n      <td>M</td>\n      <td>10th</td>\n      <td>Huang High School</td>\n      <td>95</td>\n      <td>87</td>\n      <td>0</td>\n      <td>District</td>\n      <td>2917</td>\n      <td>1910635</td>\n    </tr>\n  </tbody>\n</table>\n</div>"
     },
     "execution_count": 372,
     "metadata": {},
     "output_type": "execute_result"
    }
   ],
   "source": [
    "# Get all the students who are passing math in a new DataFrame.\n",
    "passingMath = schoolDataCompleteDf[schoolDataCompleteDf['math_score'] >= 70]\n",
    "passingMath.head()"
   ],
   "metadata": {
    "collapsed": false,
    "pycharm": {
     "name": "#%%\n"
    }
   }
  },
  {
   "cell_type": "code",
   "execution_count": 373,
   "outputs": [
    {
     "data": {
      "text/plain": "   Student ID     student_name gender grade        school_name  reading_score  \\\n1           1     Victor Smith      M  12th  Huang High School             94   \n2           2  Kevin Rodriguez      M  12th  Huang High School             90   \n4           4       Bonnie Ray      F   9th  Huang High School             97   \n5           5    Bryan Miranda      M   9th  Huang High School             94   \n6           6    Sheena Carter      F  11th  Huang High School             82   \n\n   math_score  School ID      type  size   budget  \n1          61          0  District  2917  1910635  \n2          60          0  District  2917  1910635  \n4          84          0  District  2917  1910635  \n5          94          0  District  2917  1910635  \n6          80          0  District  2917  1910635  ",
      "text/html": "<div>\n<style scoped>\n    .dataframe tbody tr th:only-of-type {\n        vertical-align: middle;\n    }\n\n    .dataframe tbody tr th {\n        vertical-align: top;\n    }\n\n    .dataframe thead th {\n        text-align: right;\n    }\n</style>\n<table border=\"1\" class=\"dataframe\">\n  <thead>\n    <tr style=\"text-align: right;\">\n      <th></th>\n      <th>Student ID</th>\n      <th>student_name</th>\n      <th>gender</th>\n      <th>grade</th>\n      <th>school_name</th>\n      <th>reading_score</th>\n      <th>math_score</th>\n      <th>School ID</th>\n      <th>type</th>\n      <th>size</th>\n      <th>budget</th>\n    </tr>\n  </thead>\n  <tbody>\n    <tr>\n      <th>1</th>\n      <td>1</td>\n      <td>Victor Smith</td>\n      <td>M</td>\n      <td>12th</td>\n      <td>Huang High School</td>\n      <td>94</td>\n      <td>61</td>\n      <td>0</td>\n      <td>District</td>\n      <td>2917</td>\n      <td>1910635</td>\n    </tr>\n    <tr>\n      <th>2</th>\n      <td>2</td>\n      <td>Kevin Rodriguez</td>\n      <td>M</td>\n      <td>12th</td>\n      <td>Huang High School</td>\n      <td>90</td>\n      <td>60</td>\n      <td>0</td>\n      <td>District</td>\n      <td>2917</td>\n      <td>1910635</td>\n    </tr>\n    <tr>\n      <th>4</th>\n      <td>4</td>\n      <td>Bonnie Ray</td>\n      <td>F</td>\n      <td>9th</td>\n      <td>Huang High School</td>\n      <td>97</td>\n      <td>84</td>\n      <td>0</td>\n      <td>District</td>\n      <td>2917</td>\n      <td>1910635</td>\n    </tr>\n    <tr>\n      <th>5</th>\n      <td>5</td>\n      <td>Bryan Miranda</td>\n      <td>M</td>\n      <td>9th</td>\n      <td>Huang High School</td>\n      <td>94</td>\n      <td>94</td>\n      <td>0</td>\n      <td>District</td>\n      <td>2917</td>\n      <td>1910635</td>\n    </tr>\n    <tr>\n      <th>6</th>\n      <td>6</td>\n      <td>Sheena Carter</td>\n      <td>F</td>\n      <td>11th</td>\n      <td>Huang High School</td>\n      <td>82</td>\n      <td>80</td>\n      <td>0</td>\n      <td>District</td>\n      <td>2917</td>\n      <td>1910635</td>\n    </tr>\n  </tbody>\n</table>\n</div>"
     },
     "execution_count": 373,
     "metadata": {},
     "output_type": "execute_result"
    }
   ],
   "source": [
    "# Get all the students that are passing reading in a new DataFrame.\n",
    "passingReading = schoolDataCompleteDf[schoolDataCompleteDf['reading_score'] >= 70]\n",
    "passingReading.head()"
   ],
   "metadata": {
    "collapsed": false,
    "pycharm": {
     "name": "#%%\n"
    }
   }
  },
  {
   "cell_type": "code",
   "execution_count": 374,
   "outputs": [
    {
     "name": "stdout",
     "output_type": "stream",
     "text": [
      "Passing math count: 29370\n",
      "Passing reading count: 33610\n"
     ]
    }
   ],
   "source": [
    "# Calculate the number of students passing math.\n",
    "passingMathCount = passingMath['student_name'].count()\n",
    "\n",
    "# Calculate the number of students passing reading.\n",
    "passingReadingCount = passingReading['student_name'].count()\n",
    "\n",
    "print(\"Passing math count: \" + str(passingMathCount))\n",
    "print(\"Passing reading count: \" + str(passingReadingCount))"
   ],
   "metadata": {
    "collapsed": false,
    "pycharm": {
     "name": "#%%\n"
    }
   }
  },
  {
   "cell_type": "code",
   "execution_count": 375,
   "outputs": [
    {
     "name": "stdout",
     "output_type": "stream",
     "text": [
      "Passing math percentage 74.9808526933878\n",
      "Passing reading percentage 85.80546336482001\n"
     ]
    }
   ],
   "source": [
    "#Calculating passing percentages\n",
    "passingReadingPerc = passingReadingCount / float(studentCount) * 100\n",
    "passingMathPerc = passingMathCount / float(studentCount) * 100\n",
    "print(f'Passing math percentage {passingMathPerc}\\n'\n",
    "      f'Passing reading percentage {passingReadingPerc}')"
   ],
   "metadata": {
    "collapsed": false,
    "pycharm": {
     "name": "#%%\n"
    }
   }
  },
  {
   "cell_type": "code",
   "execution_count": 376,
   "outputs": [
    {
     "data": {
      "text/plain": "   Student ID    student_name gender grade        school_name  reading_score  \\\n4           4      Bonnie Ray      F   9th  Huang High School             97   \n5           5   Bryan Miranda      M   9th  Huang High School             94   \n6           6   Sheena Carter      F  11th  Huang High School             82   \n8           8    Michael Roth      M  10th  Huang High School             95   \n9           9  Matthew Greene      M  10th  Huang High School             96   \n\n   math_score  School ID      type  size   budget  \n4          84          0  District  2917  1910635  \n5          94          0  District  2917  1910635  \n6          80          0  District  2917  1910635  \n8          87          0  District  2917  1910635  \n9          84          0  District  2917  1910635  ",
      "text/html": "<div>\n<style scoped>\n    .dataframe tbody tr th:only-of-type {\n        vertical-align: middle;\n    }\n\n    .dataframe tbody tr th {\n        vertical-align: top;\n    }\n\n    .dataframe thead th {\n        text-align: right;\n    }\n</style>\n<table border=\"1\" class=\"dataframe\">\n  <thead>\n    <tr style=\"text-align: right;\">\n      <th></th>\n      <th>Student ID</th>\n      <th>student_name</th>\n      <th>gender</th>\n      <th>grade</th>\n      <th>school_name</th>\n      <th>reading_score</th>\n      <th>math_score</th>\n      <th>School ID</th>\n      <th>type</th>\n      <th>size</th>\n      <th>budget</th>\n    </tr>\n  </thead>\n  <tbody>\n    <tr>\n      <th>4</th>\n      <td>4</td>\n      <td>Bonnie Ray</td>\n      <td>F</td>\n      <td>9th</td>\n      <td>Huang High School</td>\n      <td>97</td>\n      <td>84</td>\n      <td>0</td>\n      <td>District</td>\n      <td>2917</td>\n      <td>1910635</td>\n    </tr>\n    <tr>\n      <th>5</th>\n      <td>5</td>\n      <td>Bryan Miranda</td>\n      <td>M</td>\n      <td>9th</td>\n      <td>Huang High School</td>\n      <td>94</td>\n      <td>94</td>\n      <td>0</td>\n      <td>District</td>\n      <td>2917</td>\n      <td>1910635</td>\n    </tr>\n    <tr>\n      <th>6</th>\n      <td>6</td>\n      <td>Sheena Carter</td>\n      <td>F</td>\n      <td>11th</td>\n      <td>Huang High School</td>\n      <td>82</td>\n      <td>80</td>\n      <td>0</td>\n      <td>District</td>\n      <td>2917</td>\n      <td>1910635</td>\n    </tr>\n    <tr>\n      <th>8</th>\n      <td>8</td>\n      <td>Michael Roth</td>\n      <td>M</td>\n      <td>10th</td>\n      <td>Huang High School</td>\n      <td>95</td>\n      <td>87</td>\n      <td>0</td>\n      <td>District</td>\n      <td>2917</td>\n      <td>1910635</td>\n    </tr>\n    <tr>\n      <th>9</th>\n      <td>9</td>\n      <td>Matthew Greene</td>\n      <td>M</td>\n      <td>10th</td>\n      <td>Huang High School</td>\n      <td>96</td>\n      <td>84</td>\n      <td>0</td>\n      <td>District</td>\n      <td>2917</td>\n      <td>1910635</td>\n    </tr>\n  </tbody>\n</table>\n</div>"
     },
     "execution_count": 376,
     "metadata": {},
     "output_type": "execute_result"
    }
   ],
   "source": [
    "#Looking for students that passed BOTH math and reading\n",
    "passingBoth = schoolDataCompleteDf[(schoolDataCompleteDf['math_score'] >= 70) & (schoolDataCompleteDf['reading_score'] >= 70)]\n",
    "\n",
    "passingBoth.head()"
   ],
   "metadata": {
    "collapsed": false,
    "pycharm": {
     "name": "#%%\n"
    }
   }
  },
  {
   "cell_type": "code",
   "execution_count": 377,
   "outputs": [
    {
     "data": {
      "text/plain": "25528"
     },
     "execution_count": 377,
     "metadata": {},
     "output_type": "execute_result"
    }
   ],
   "source": [
    "#Get count of students who passed BOTH math & english\n",
    "passingBothCount = passingBoth['student_name'].count()\n",
    "passingBothCount"
   ],
   "metadata": {
    "collapsed": false,
    "pycharm": {
     "name": "#%%\n"
    }
   }
  },
  {
   "cell_type": "code",
   "execution_count": 378,
   "outputs": [
    {
     "data": {
      "text/plain": "65.17232575950983"
     },
     "execution_count": 378,
     "metadata": {},
     "output_type": "execute_result"
    }
   ],
   "source": [
    "#Calculate passing both percentage\n",
    "passingBothPerc = passingBothCount / studentCount * 100\n",
    "passingBothPerc"
   ],
   "metadata": {
    "collapsed": false,
    "pycharm": {
     "name": "#%%\n"
    }
   }
  },
  {
   "cell_type": "code",
   "execution_count": 379,
   "outputs": [
    {
     "data": {
      "text/plain": "   Total Schools  Total Students  Total Budget  Average Math Score  \\\n0             15           39170      24649428           78.985371   \n\n   Average Reading Score  % Passing Math  % Passing Reading  % Overall Passing  \n0               81.87784       74.980853          85.805463          65.172326  ",
      "text/html": "<div>\n<style scoped>\n    .dataframe tbody tr th:only-of-type {\n        vertical-align: middle;\n    }\n\n    .dataframe tbody tr th {\n        vertical-align: top;\n    }\n\n    .dataframe thead th {\n        text-align: right;\n    }\n</style>\n<table border=\"1\" class=\"dataframe\">\n  <thead>\n    <tr style=\"text-align: right;\">\n      <th></th>\n      <th>Total Schools</th>\n      <th>Total Students</th>\n      <th>Total Budget</th>\n      <th>Average Math Score</th>\n      <th>Average Reading Score</th>\n      <th>% Passing Math</th>\n      <th>% Passing Reading</th>\n      <th>% Overall Passing</th>\n    </tr>\n  </thead>\n  <tbody>\n    <tr>\n      <th>0</th>\n      <td>15</td>\n      <td>39170</td>\n      <td>24649428</td>\n      <td>78.985371</td>\n      <td>81.87784</td>\n      <td>74.980853</td>\n      <td>85.805463</td>\n      <td>65.172326</td>\n    </tr>\n  </tbody>\n</table>\n</div>"
     },
     "execution_count": 379,
     "metadata": {},
     "output_type": "execute_result"
    }
   ],
   "source": [
    "districtSummaryDf = pd.DataFrame(\n",
    "    [{\"Total Schools\": schoolCount,\n",
    "      \"Total Students\": studentCount,\n",
    "      \"Total Budget\": totalBudget,\n",
    "      \"Average Math Score\": avgMath,\n",
    "      \"Average Reading Score\": avgReading,\n",
    "      \"% Passing Math\": passingMathPerc,\n",
    "      \"% Passing Reading\": passingReadingPerc,\n",
    "      \"% Overall Passing\": passingBothPerc}])\n",
    "districtSummaryDf"
   ],
   "metadata": {
    "collapsed": false,
    "pycharm": {
     "name": "#%%\n"
    }
   }
  },
  {
   "cell_type": "code",
   "execution_count": 380,
   "outputs": [
    {
     "data": {
      "text/plain": "0    39,170\nName: Total Students, dtype: object"
     },
     "execution_count": 380,
     "metadata": {},
     "output_type": "execute_result"
    }
   ],
   "source": [
    "# Format the \"Total Students\" to have the comma for a thousands separator.\n",
    "districtSummaryDf['Total Students'] = districtSummaryDf['Total Students'].map('{:,}'.format)\n",
    "\n",
    "districtSummaryDf['Total Students']"
   ],
   "metadata": {
    "collapsed": false,
    "pycharm": {
     "name": "#%%\n"
    }
   }
  },
  {
   "cell_type": "code",
   "execution_count": 381,
   "outputs": [
    {
     "data": {
      "text/plain": "0    $24,649,428.00\nName: Total Budget, dtype: object"
     },
     "execution_count": 381,
     "metadata": {},
     "output_type": "execute_result"
    }
   ],
   "source": [
    "districtSummaryDf['Total Budget'] = districtSummaryDf['Total Budget'].map(\"${:,.2f}\".format)\n",
    "\n",
    "districtSummaryDf['Total Budget']"
   ],
   "metadata": {
    "collapsed": false,
    "pycharm": {
     "name": "#%%\n"
    }
   }
  },
  {
   "cell_type": "code",
   "execution_count": 382,
   "outputs": [],
   "source": [
    "#Formatting all columns\n",
    "districtSummaryDf['Average Math Score'] = districtSummaryDf['Average Math Score'].map('{:.1f}'.format)\n",
    "\n",
    "districtSummaryDf['Average Reading Score'] = districtSummaryDf['Average Reading Score'].map('{:.1f}'.format)\n",
    "\n",
    "districtSummaryDf['% Passing Reading'] = districtSummaryDf['% Passing Reading'].map('{:.0f}'.format)\n",
    "\n",
    "districtSummaryDf['% Passing Math'] = districtSummaryDf['% Passing Math'].map('{:.0f}'.format)\n",
    "\n",
    "districtSummaryDf['% Overall Passing'] = districtSummaryDf['% Overall Passing'].map('{:.0f}'.format)"
   ],
   "metadata": {
    "collapsed": false,
    "pycharm": {
     "name": "#%%\n"
    }
   }
  },
  {
   "cell_type": "code",
   "execution_count": 383,
   "outputs": [
    {
     "data": {
      "text/plain": "   Total Schools Total Students    Total Budget Average Math Score  \\\n0             15         39,170  $24,649,428.00               79.0   \n\n  Average Reading Score % Passing Math % Passing Reading % Overall Passing  \n0                  81.9             75                86                65  ",
      "text/html": "<div>\n<style scoped>\n    .dataframe tbody tr th:only-of-type {\n        vertical-align: middle;\n    }\n\n    .dataframe tbody tr th {\n        vertical-align: top;\n    }\n\n    .dataframe thead th {\n        text-align: right;\n    }\n</style>\n<table border=\"1\" class=\"dataframe\">\n  <thead>\n    <tr style=\"text-align: right;\">\n      <th></th>\n      <th>Total Schools</th>\n      <th>Total Students</th>\n      <th>Total Budget</th>\n      <th>Average Math Score</th>\n      <th>Average Reading Score</th>\n      <th>% Passing Math</th>\n      <th>% Passing Reading</th>\n      <th>% Overall Passing</th>\n    </tr>\n  </thead>\n  <tbody>\n    <tr>\n      <th>0</th>\n      <td>15</td>\n      <td>39,170</td>\n      <td>$24,649,428.00</td>\n      <td>79.0</td>\n      <td>81.9</td>\n      <td>75</td>\n      <td>86</td>\n      <td>65</td>\n    </tr>\n  </tbody>\n</table>\n</div>"
     },
     "execution_count": 383,
     "metadata": {},
     "output_type": "execute_result"
    }
   ],
   "source": [
    "districtSummaryDf"
   ],
   "metadata": {
    "collapsed": false,
    "pycharm": {
     "name": "#%%\n"
    }
   }
  },
  {
   "cell_type": "code",
   "execution_count": 384,
   "outputs": [
    {
     "data": {
      "text/plain": "school_name\nHuang High School        District\nFigueroa High School     District\nShelton High School       Charter\nHernandez High School    District\nGriffin High School       Charter\nWilson High School        Charter\nCabrera High School       Charter\nBailey High School       District\nHolden High School        Charter\nPena High School          Charter\nWright High School        Charter\nRodriguez High School    District\nJohnson High School      District\nFord High School         District\nThomas High School        Charter\nName: type, dtype: object"
     },
     "execution_count": 384,
     "metadata": {},
     "output_type": "execute_result"
    }
   ],
   "source": [
    "perSchoolType = schoolDataDf.set_index(['school_name'])['type']\n",
    "perSchoolType"
   ],
   "metadata": {
    "collapsed": false,
    "pycharm": {
     "name": "#%%\n"
    }
   }
  },
  {
   "cell_type": "code",
   "execution_count": 385,
   "outputs": [
    {
     "data": {
      "text/plain": "                           type\nschool_name                    \nHuang High School      District\nFigueroa High School   District\nShelton High School     Charter\nHernandez High School  District\nGriffin High School     Charter\nWilson High School      Charter\nCabrera High School     Charter\nBailey High School     District\nHolden High School      Charter\nPena High School        Charter\nWright High School      Charter\nRodriguez High School  District\nJohnson High School    District\nFord High School       District\nThomas High School      Charter",
      "text/html": "<div>\n<style scoped>\n    .dataframe tbody tr th:only-of-type {\n        vertical-align: middle;\n    }\n\n    .dataframe tbody tr th {\n        vertical-align: top;\n    }\n\n    .dataframe thead th {\n        text-align: right;\n    }\n</style>\n<table border=\"1\" class=\"dataframe\">\n  <thead>\n    <tr style=\"text-align: right;\">\n      <th></th>\n      <th>type</th>\n    </tr>\n    <tr>\n      <th>school_name</th>\n      <th></th>\n    </tr>\n  </thead>\n  <tbody>\n    <tr>\n      <th>Huang High School</th>\n      <td>District</td>\n    </tr>\n    <tr>\n      <th>Figueroa High School</th>\n      <td>District</td>\n    </tr>\n    <tr>\n      <th>Shelton High School</th>\n      <td>Charter</td>\n    </tr>\n    <tr>\n      <th>Hernandez High School</th>\n      <td>District</td>\n    </tr>\n    <tr>\n      <th>Griffin High School</th>\n      <td>Charter</td>\n    </tr>\n    <tr>\n      <th>Wilson High School</th>\n      <td>Charter</td>\n    </tr>\n    <tr>\n      <th>Cabrera High School</th>\n      <td>Charter</td>\n    </tr>\n    <tr>\n      <th>Bailey High School</th>\n      <td>District</td>\n    </tr>\n    <tr>\n      <th>Holden High School</th>\n      <td>Charter</td>\n    </tr>\n    <tr>\n      <th>Pena High School</th>\n      <td>Charter</td>\n    </tr>\n    <tr>\n      <th>Wright High School</th>\n      <td>Charter</td>\n    </tr>\n    <tr>\n      <th>Rodriguez High School</th>\n      <td>District</td>\n    </tr>\n    <tr>\n      <th>Johnson High School</th>\n      <td>District</td>\n    </tr>\n    <tr>\n      <th>Ford High School</th>\n      <td>District</td>\n    </tr>\n    <tr>\n      <th>Thomas High School</th>\n      <td>Charter</td>\n    </tr>\n  </tbody>\n</table>\n</div>"
     },
     "execution_count": 385,
     "metadata": {},
     "output_type": "execute_result"
    }
   ],
   "source": [
    "df = pd.DataFrame(perSchoolType)\n",
    "df"
   ],
   "metadata": {
    "collapsed": false,
    "pycharm": {
     "name": "#%%\n"
    }
   }
  },
  {
   "cell_type": "code",
   "execution_count": 386,
   "outputs": [
    {
     "data": {
      "text/plain": "school_name\nHuang High School        2917\nFigueroa High School     2949\nShelton High School      1761\nHernandez High School    4635\nGriffin High School      1468\nWilson High School       2283\nCabrera High School      1858\nBailey High School       4976\nHolden High School        427\nPena High School          962\nWright High School       1800\nRodriguez High School    3999\nJohnson High School      4761\nFord High School         2739\nThomas High School       1635\nName: size, dtype: int64"
     },
     "execution_count": 386,
     "metadata": {},
     "output_type": "execute_result"
    }
   ],
   "source": [
    "perSchoolCount = schoolDataDf.set_index(['school_name'])['size']\n",
    "perSchoolCount"
   ],
   "metadata": {
    "collapsed": false,
    "pycharm": {
     "name": "#%%\n"
    }
   }
  },
  {
   "cell_type": "code",
   "execution_count": 387,
   "outputs": [
    {
     "data": {
      "text/plain": "Bailey High School       4976\nJohnson High School      4761\nHernandez High School    4635\nRodriguez High School    3999\nFigueroa High School     2949\nHuang High School        2917\nFord High School         2739\nWilson High School       2283\nCabrera High School      1858\nWright High School       1800\nShelton High School      1761\nThomas High School       1635\nGriffin High School      1468\nPena High School          962\nHolden High School        427\nName: school_name, dtype: int64"
     },
     "execution_count": 387,
     "metadata": {},
     "output_type": "execute_result"
    }
   ],
   "source": [
    "perSchoolCount = schoolDataCompleteDf['school_name'].value_counts()\n",
    "perSchoolCount"
   ],
   "metadata": {
    "collapsed": false,
    "pycharm": {
     "name": "#%%\n"
    }
   }
  },
  {
   "cell_type": "code",
   "execution_count": 388,
   "outputs": [
    {
     "data": {
      "text/plain": "school_name\nHuang High School        1910635\nFigueroa High School     1884411\nShelton High School      1056600\nHernandez High School    3022020\nGriffin High School       917500\nWilson High School       1319574\nCabrera High School      1081356\nBailey High School       3124928\nHolden High School        248087\nPena High School          585858\nWright High School       1049400\nRodriguez High School    2547363\nJohnson High School      3094650\nFord High School         1763916\nThomas High School       1043130\nName: budget, dtype: int64"
     },
     "execution_count": 388,
     "metadata": {},
     "output_type": "execute_result"
    }
   ],
   "source": [
    "#Get budget for each school\n",
    "perSchoolBudget = schoolDataDf.set_index(['school_name'])['budget']\n",
    "perSchoolBudget"
   ],
   "metadata": {
    "collapsed": false,
    "pycharm": {
     "name": "#%%\n"
    }
   }
  },
  {
   "cell_type": "code",
   "execution_count": 389,
   "outputs": [
    {
     "data": {
      "text/plain": "Bailey High School       628.0\nCabrera High School      582.0\nFigueroa High School     639.0\nFord High School         644.0\nGriffin High School      625.0\nHernandez High School    652.0\nHolden High School       581.0\nHuang High School        655.0\nJohnson High School      650.0\nPena High School         609.0\nRodriguez High School    637.0\nShelton High School      600.0\nThomas High School       638.0\nWilson High School       578.0\nWright High School       583.0\ndtype: float64"
     },
     "execution_count": 389,
     "metadata": {},
     "output_type": "execute_result"
    }
   ],
   "source": [
    "perSchoolCapita = perSchoolBudget / perSchoolCount\n",
    "perSchoolCapita"
   ],
   "metadata": {
    "collapsed": false,
    "pycharm": {
     "name": "#%%\n"
    }
   }
  },
  {
   "cell_type": "code",
   "execution_count": 390,
   "outputs": [
    {
     "data": {
      "text/plain": "school_name\nHuang High School     79\nHuang High School     61\nHuang High School     60\nHuang High School     58\nHuang High School     84\n                      ..\nThomas High School    90\nThomas High School    70\nThomas High School    84\nThomas High School    90\nThomas High School    75\nName: math_score, Length: 39170, dtype: int64"
     },
     "execution_count": 390,
     "metadata": {},
     "output_type": "execute_result"
    }
   ],
   "source": [
    "# Calculate the math scores.\n",
    "studentSchoolMath = studentDataDf.set_index(['school_name'])['math_score']\n",
    "studentSchoolMath"
   ],
   "metadata": {
    "collapsed": false,
    "pycharm": {
     "name": "#%%\n"
    }
   }
  },
  {
   "cell_type": "code",
   "execution_count": 391,
   "outputs": [
    {
     "data": {
      "text/plain": "                       Student ID  reading_score  math_score  School ID  \\\nschool_name                                                               \nBailey High School        20358.5      81.033963   77.048432        7.0   \nCabrera High School       16941.5      83.975780   83.061895        6.0   \nFigueroa High School       4391.0      81.158020   76.711767        1.0   \nFord High School          36165.0      80.746258   77.102592       13.0   \nGriffin High School       12995.5      83.816757   83.351499        4.0   \nHernandez High School      9944.0      80.934412   77.289752        3.0   \nHolden High School        23060.0      83.814988   83.803279        8.0   \nHuang High School          1458.0      81.182722   76.629414        0.0   \nJohnson High School       32415.0      80.966394   77.072464       12.0   \nPena High School          23754.5      84.044699   83.839917        9.0   \nRodriguez High School     28035.0      80.744686   76.842711       11.0   \nShelton High School        6746.0      83.725724   83.359455        2.0   \nThomas High School        38352.0      83.848930   83.418349       14.0   \nWilson High School        14871.0      83.989488   83.274201        5.0   \nWright High School        25135.5      83.955000   83.682222       10.0   \n\n                         size     budget  \nschool_name                               \nBailey High School     4976.0  3124928.0  \nCabrera High School    1858.0  1081356.0  \nFigueroa High School   2949.0  1884411.0  \nFord High School       2739.0  1763916.0  \nGriffin High School    1468.0   917500.0  \nHernandez High School  4635.0  3022020.0  \nHolden High School      427.0   248087.0  \nHuang High School      2917.0  1910635.0  \nJohnson High School    4761.0  3094650.0  \nPena High School        962.0   585858.0  \nRodriguez High School  3999.0  2547363.0  \nShelton High School    1761.0  1056600.0  \nThomas High School     1635.0  1043130.0  \nWilson High School     2283.0  1319574.0  \nWright High School     1800.0  1049400.0  ",
      "text/html": "<div>\n<style scoped>\n    .dataframe tbody tr th:only-of-type {\n        vertical-align: middle;\n    }\n\n    .dataframe tbody tr th {\n        vertical-align: top;\n    }\n\n    .dataframe thead th {\n        text-align: right;\n    }\n</style>\n<table border=\"1\" class=\"dataframe\">\n  <thead>\n    <tr style=\"text-align: right;\">\n      <th></th>\n      <th>Student ID</th>\n      <th>reading_score</th>\n      <th>math_score</th>\n      <th>School ID</th>\n      <th>size</th>\n      <th>budget</th>\n    </tr>\n    <tr>\n      <th>school_name</th>\n      <th></th>\n      <th></th>\n      <th></th>\n      <th></th>\n      <th></th>\n      <th></th>\n    </tr>\n  </thead>\n  <tbody>\n    <tr>\n      <th>Bailey High School</th>\n      <td>20358.5</td>\n      <td>81.033963</td>\n      <td>77.048432</td>\n      <td>7.0</td>\n      <td>4976.0</td>\n      <td>3124928.0</td>\n    </tr>\n    <tr>\n      <th>Cabrera High School</th>\n      <td>16941.5</td>\n      <td>83.975780</td>\n      <td>83.061895</td>\n      <td>6.0</td>\n      <td>1858.0</td>\n      <td>1081356.0</td>\n    </tr>\n    <tr>\n      <th>Figueroa High School</th>\n      <td>4391.0</td>\n      <td>81.158020</td>\n      <td>76.711767</td>\n      <td>1.0</td>\n      <td>2949.0</td>\n      <td>1884411.0</td>\n    </tr>\n    <tr>\n      <th>Ford High School</th>\n      <td>36165.0</td>\n      <td>80.746258</td>\n      <td>77.102592</td>\n      <td>13.0</td>\n      <td>2739.0</td>\n      <td>1763916.0</td>\n    </tr>\n    <tr>\n      <th>Griffin High School</th>\n      <td>12995.5</td>\n      <td>83.816757</td>\n      <td>83.351499</td>\n      <td>4.0</td>\n      <td>1468.0</td>\n      <td>917500.0</td>\n    </tr>\n    <tr>\n      <th>Hernandez High School</th>\n      <td>9944.0</td>\n      <td>80.934412</td>\n      <td>77.289752</td>\n      <td>3.0</td>\n      <td>4635.0</td>\n      <td>3022020.0</td>\n    </tr>\n    <tr>\n      <th>Holden High School</th>\n      <td>23060.0</td>\n      <td>83.814988</td>\n      <td>83.803279</td>\n      <td>8.0</td>\n      <td>427.0</td>\n      <td>248087.0</td>\n    </tr>\n    <tr>\n      <th>Huang High School</th>\n      <td>1458.0</td>\n      <td>81.182722</td>\n      <td>76.629414</td>\n      <td>0.0</td>\n      <td>2917.0</td>\n      <td>1910635.0</td>\n    </tr>\n    <tr>\n      <th>Johnson High School</th>\n      <td>32415.0</td>\n      <td>80.966394</td>\n      <td>77.072464</td>\n      <td>12.0</td>\n      <td>4761.0</td>\n      <td>3094650.0</td>\n    </tr>\n    <tr>\n      <th>Pena High School</th>\n      <td>23754.5</td>\n      <td>84.044699</td>\n      <td>83.839917</td>\n      <td>9.0</td>\n      <td>962.0</td>\n      <td>585858.0</td>\n    </tr>\n    <tr>\n      <th>Rodriguez High School</th>\n      <td>28035.0</td>\n      <td>80.744686</td>\n      <td>76.842711</td>\n      <td>11.0</td>\n      <td>3999.0</td>\n      <td>2547363.0</td>\n    </tr>\n    <tr>\n      <th>Shelton High School</th>\n      <td>6746.0</td>\n      <td>83.725724</td>\n      <td>83.359455</td>\n      <td>2.0</td>\n      <td>1761.0</td>\n      <td>1056600.0</td>\n    </tr>\n    <tr>\n      <th>Thomas High School</th>\n      <td>38352.0</td>\n      <td>83.848930</td>\n      <td>83.418349</td>\n      <td>14.0</td>\n      <td>1635.0</td>\n      <td>1043130.0</td>\n    </tr>\n    <tr>\n      <th>Wilson High School</th>\n      <td>14871.0</td>\n      <td>83.989488</td>\n      <td>83.274201</td>\n      <td>5.0</td>\n      <td>2283.0</td>\n      <td>1319574.0</td>\n    </tr>\n    <tr>\n      <th>Wright High School</th>\n      <td>25135.5</td>\n      <td>83.955000</td>\n      <td>83.682222</td>\n      <td>10.0</td>\n      <td>1800.0</td>\n      <td>1049400.0</td>\n    </tr>\n  </tbody>\n</table>\n</div>"
     },
     "execution_count": 391,
     "metadata": {},
     "output_type": "execute_result"
    }
   ],
   "source": [
    "perSchoolAverages = schoolDataCompleteDf.groupby(['school_name']).mean()\n",
    "perSchoolAverages"
   ],
   "metadata": {
    "collapsed": false,
    "pycharm": {
     "name": "#%%\n"
    }
   }
  },
  {
   "cell_type": "code",
   "execution_count": 392,
   "outputs": [
    {
     "data": {
      "text/plain": "school_name\nBailey High School       77.048432\nCabrera High School      83.061895\nFigueroa High School     76.711767\nFord High School         77.102592\nGriffin High School      83.351499\nHernandez High School    77.289752\nHolden High School       83.803279\nHuang High School        76.629414\nJohnson High School      77.072464\nPena High School         83.839917\nRodriguez High School    76.842711\nShelton High School      83.359455\nThomas High School       83.418349\nWilson High School       83.274201\nWright High School       83.682222\nName: math_score, dtype: float64"
     },
     "execution_count": 392,
     "metadata": {},
     "output_type": "execute_result"
    }
   ],
   "source": [
    "perSchoolMath = schoolDataCompleteDf.groupby(['school_name']).mean()['math_score']\n",
    "\n",
    "if __name__ == '__main__':\n",
    "    perSchoolReading = schoolDataCompleteDf.groupby(['school_name']).mean()['reading_score']\n",
    "perSchoolMath"
   ],
   "metadata": {
    "collapsed": false,
    "pycharm": {
     "name": "#%%\n"
    }
   }
  },
  {
   "cell_type": "code",
   "execution_count": 393,
   "outputs": [
    {
     "data": {
      "text/plain": "school_name\nBailey High School       81.033963\nCabrera High School      83.975780\nFigueroa High School     81.158020\nFord High School         80.746258\nGriffin High School      83.816757\nHernandez High School    80.934412\nHolden High School       83.814988\nHuang High School        81.182722\nJohnson High School      80.966394\nPena High School         84.044699\nRodriguez High School    80.744686\nShelton High School      83.725724\nThomas High School       83.848930\nWilson High School       83.989488\nWright High School       83.955000\nName: reading_score, dtype: float64"
     },
     "execution_count": 393,
     "metadata": {},
     "output_type": "execute_result"
    }
   ],
   "source": [
    "perSchoolReading"
   ],
   "metadata": {
    "collapsed": false,
    "pycharm": {
     "name": "#%%\n"
    }
   }
  },
  {
   "cell_type": "code",
   "execution_count": 394,
   "outputs": [],
   "source": [
    "perSchoolPassingMath = schoolDataCompleteDf[(schoolDataCompleteDf['math_score'] >= 70)]\n",
    "\n",
    "perSchoolPassingReading = schoolDataCompleteDf[(schoolDataCompleteDf['reading_score'] >= 70)]"
   ],
   "metadata": {
    "collapsed": false,
    "pycharm": {
     "name": "#%%\n"
    }
   }
  },
  {
   "cell_type": "code",
   "execution_count": 395,
   "outputs": [
    {
     "data": {
      "text/plain": "school_name\nBailey High School       3318\nCabrera High School      1749\nFigueroa High School     1946\nFord High School         1871\nGriffin High School      1371\nHernandez High School    3094\nHolden High School        395\nHuang High School        1916\nJohnson High School      3145\nPena High School          910\nRodriguez High School    2654\nShelton High School      1653\nThomas High School       1525\nWilson High School       2143\nWright High School       1680\nName: student_name, dtype: int64"
     },
     "execution_count": 395,
     "metadata": {},
     "output_type": "execute_result"
    }
   ],
   "source": [
    "perSchoolPassingMath = perSchoolPassingMath.groupby(['school_name']).count()['student_name']\n",
    "perSchoolPassingMath"
   ],
   "metadata": {
    "collapsed": false,
    "pycharm": {
     "name": "#%%\n"
    }
   }
  },
  {
   "cell_type": "code",
   "execution_count": 396,
   "outputs": [
    {
     "data": {
      "text/plain": "school_name\nBailey High School       4077\nCabrera High School      1803\nFigueroa High School     2381\nFord High School         2172\nGriffin High School      1426\nHernandez High School    3748\nHolden High School        411\nHuang High School        2372\nJohnson High School      3867\nPena High School          923\nRodriguez High School    3208\nShelton High School      1688\nThomas High School       1591\nWilson High School       2204\nWright High School       1739\nName: student_name, dtype: int64"
     },
     "execution_count": 396,
     "metadata": {},
     "output_type": "execute_result"
    }
   ],
   "source": [
    "perSchoolPassingReading = perSchoolPassingReading.groupby(['school_name']).count()['student_name']\n",
    "perSchoolPassingReading"
   ],
   "metadata": {
    "collapsed": false,
    "pycharm": {
     "name": "#%%\n"
    }
   }
  },
  {
   "cell_type": "code",
   "execution_count": 397,
   "outputs": [
    {
     "data": {
      "text/plain": "school_name\nBailey High School       3318\nCabrera High School      1749\nFigueroa High School     1946\nFord High School         1871\nGriffin High School      1371\nHernandez High School    3094\nHolden High School        395\nHuang High School        1916\nJohnson High School      3145\nPena High School          910\nRodriguez High School    2654\nShelton High School      1653\nThomas High School       1525\nWilson High School       2143\nWright High School       1680\nName: student_name, dtype: int64"
     },
     "execution_count": 397,
     "metadata": {},
     "output_type": "execute_result"
    }
   ],
   "source": [
    "perSchoolPassingMath"
   ],
   "metadata": {
    "collapsed": false,
    "pycharm": {
     "name": "#%%\n"
    }
   }
  },
  {
   "cell_type": "code",
   "execution_count": 398,
   "outputs": [
    {
     "data": {
      "text/plain": "Bailey High School       81.933280\nCabrera High School      97.039828\nFigueroa High School     80.739234\nFord High School         79.299014\nGriffin High School      97.138965\nHernandez High School    80.862999\nHolden High School       96.252927\nHuang High School        81.316421\nJohnson High School      81.222432\nPena High School         95.945946\nRodriguez High School    80.220055\nShelton High School      95.854628\nThomas High School       97.308869\nWilson High School       96.539641\nWright High School       96.611111\ndtype: float64"
     },
     "execution_count": 398,
     "metadata": {},
     "output_type": "execute_result"
    }
   ],
   "source": [
    "perSchoolPassingMath = perSchoolPassingMath / perSchoolCount * 100\n",
    "\n",
    "perSchoolPassingReading = perSchoolPassingReading / perSchoolCount * 100\n",
    "perSchoolPassingReading"
   ],
   "metadata": {
    "collapsed": false,
    "pycharm": {
     "name": "#%%\n"
    }
   }
  },
  {
   "cell_type": "code",
   "execution_count": 399,
   "outputs": [
    {
     "data": {
      "text/plain": "Bailey High School       66.680064\nCabrera High School      94.133477\nFigueroa High School     65.988471\nFord High School         68.309602\nGriffin High School      93.392371\nHernandez High School    66.752967\nHolden High School       92.505855\nHuang High School        65.683922\nJohnson High School      66.057551\nPena High School         94.594595\nRodriguez High School    66.366592\nShelton High School      93.867121\nThomas High School       93.272171\nWilson High School       93.867718\nWright High School       93.333333\ndtype: float64"
     },
     "execution_count": 399,
     "metadata": {},
     "output_type": "execute_result"
    }
   ],
   "source": [
    "perSchoolPassingMath"
   ],
   "metadata": {
    "collapsed": false,
    "pycharm": {
     "name": "#%%\n"
    }
   }
  },
  {
   "cell_type": "code",
   "execution_count": 400,
   "outputs": [
    {
     "data": {
      "text/plain": "   Student ID    student_name gender grade        school_name  reading_score  \\\n4           4      Bonnie Ray      F   9th  Huang High School             97   \n5           5   Bryan Miranda      M   9th  Huang High School             94   \n6           6   Sheena Carter      F  11th  Huang High School             82   \n8           8    Michael Roth      M  10th  Huang High School             95   \n9           9  Matthew Greene      M  10th  Huang High School             96   \n\n   math_score  School ID      type  size   budget  \n4          84          0  District  2917  1910635  \n5          94          0  District  2917  1910635  \n6          80          0  District  2917  1910635  \n8          87          0  District  2917  1910635  \n9          84          0  District  2917  1910635  ",
      "text/html": "<div>\n<style scoped>\n    .dataframe tbody tr th:only-of-type {\n        vertical-align: middle;\n    }\n\n    .dataframe tbody tr th {\n        vertical-align: top;\n    }\n\n    .dataframe thead th {\n        text-align: right;\n    }\n</style>\n<table border=\"1\" class=\"dataframe\">\n  <thead>\n    <tr style=\"text-align: right;\">\n      <th></th>\n      <th>Student ID</th>\n      <th>student_name</th>\n      <th>gender</th>\n      <th>grade</th>\n      <th>school_name</th>\n      <th>reading_score</th>\n      <th>math_score</th>\n      <th>School ID</th>\n      <th>type</th>\n      <th>size</th>\n      <th>budget</th>\n    </tr>\n  </thead>\n  <tbody>\n    <tr>\n      <th>4</th>\n      <td>4</td>\n      <td>Bonnie Ray</td>\n      <td>F</td>\n      <td>9th</td>\n      <td>Huang High School</td>\n      <td>97</td>\n      <td>84</td>\n      <td>0</td>\n      <td>District</td>\n      <td>2917</td>\n      <td>1910635</td>\n    </tr>\n    <tr>\n      <th>5</th>\n      <td>5</td>\n      <td>Bryan Miranda</td>\n      <td>M</td>\n      <td>9th</td>\n      <td>Huang High School</td>\n      <td>94</td>\n      <td>94</td>\n      <td>0</td>\n      <td>District</td>\n      <td>2917</td>\n      <td>1910635</td>\n    </tr>\n    <tr>\n      <th>6</th>\n      <td>6</td>\n      <td>Sheena Carter</td>\n      <td>F</td>\n      <td>11th</td>\n      <td>Huang High School</td>\n      <td>82</td>\n      <td>80</td>\n      <td>0</td>\n      <td>District</td>\n      <td>2917</td>\n      <td>1910635</td>\n    </tr>\n    <tr>\n      <th>8</th>\n      <td>8</td>\n      <td>Michael Roth</td>\n      <td>M</td>\n      <td>10th</td>\n      <td>Huang High School</td>\n      <td>95</td>\n      <td>87</td>\n      <td>0</td>\n      <td>District</td>\n      <td>2917</td>\n      <td>1910635</td>\n    </tr>\n    <tr>\n      <th>9</th>\n      <td>9</td>\n      <td>Matthew Greene</td>\n      <td>M</td>\n      <td>10th</td>\n      <td>Huang High School</td>\n      <td>96</td>\n      <td>84</td>\n      <td>0</td>\n      <td>District</td>\n      <td>2917</td>\n      <td>1910635</td>\n    </tr>\n  </tbody>\n</table>\n</div>"
     },
     "execution_count": 400,
     "metadata": {},
     "output_type": "execute_result"
    }
   ],
   "source": [
    "perPassingBoth = schoolDataCompleteDf[(schoolDataCompleteDf['math_score'] >= 70) & (schoolDataCompleteDf['reading_score'] >= 70)]\n",
    "perPassingBoth.head()"
   ],
   "metadata": {
    "collapsed": false,
    "pycharm": {
     "name": "#%%\n"
    }
   }
  },
  {
   "cell_type": "code",
   "execution_count": 401,
   "outputs": [
    {
     "data": {
      "text/plain": "school_name\nBailey High School       2719\nCabrera High School      1697\nFigueroa High School     1569\nFord High School         1487\nGriffin High School      1330\nHernandez High School    2481\nHolden High School        381\nHuang High School        1561\nJohnson High School      2549\nPena High School          871\nRodriguez High School    2119\nShelton High School      1583\nThomas High School       1487\nWilson High School       2068\nWright High School       1626\nName: student_name, dtype: int64"
     },
     "execution_count": 401,
     "metadata": {},
     "output_type": "execute_result"
    }
   ],
   "source": [
    "# Calculate the number of students who passed both math and reading.\n",
    "perPassingBoth = perPassingBoth.groupby(['school_name']).count()['student_name']\n",
    "perPassingBoth"
   ],
   "metadata": {
    "collapsed": false,
    "pycharm": {
     "name": "#%%\n"
    }
   }
  },
  {
   "cell_type": "code",
   "execution_count": 402,
   "outputs": [
    {
     "data": {
      "text/plain": "Bailey High School       54.642283\nCabrera High School      91.334769\nFigueroa High School     53.204476\nFord High School         54.289887\nGriffin High School      90.599455\nHernandez High School    53.527508\nHolden High School       89.227166\nHuang High School        53.513884\nJohnson High School      53.539172\nPena High School         90.540541\nRodriguez High School    52.988247\nShelton High School      89.892107\nThomas High School       90.948012\nWilson High School       90.582567\nWright High School       90.333333\ndtype: float64"
     },
     "execution_count": 402,
     "metadata": {},
     "output_type": "execute_result"
    }
   ],
   "source": [
    "# Calculate the overall passing percentage.\n",
    "perOverallPassingPerc = perPassingBoth / perSchoolCount * 100\n",
    "perOverallPassingPerc"
   ],
   "metadata": {
    "collapsed": false,
    "pycharm": {
     "name": "#%%\n"
    }
   }
  },
  {
   "cell_type": "code",
   "execution_count": 403,
   "outputs": [
    {
     "data": {
      "text/plain": "                     School Type  Total Students  Total School Budget  \\\nBailey High School      District            4976              3124928   \nCabrera High School      Charter            1858              1081356   \nFigueroa High School    District            2949              1884411   \nFord High School        District            2739              1763916   \nGriffin High School      Charter            1468               917500   \n\n                      Per Student Budget  Average Math Score  \\\nBailey High School                 628.0           77.048432   \nCabrera High School                582.0           83.061895   \nFigueroa High School               639.0           76.711767   \nFord High School                   644.0           77.102592   \nGriffin High School                625.0           83.351499   \n\n                      Average Reading Score  % Passing Math  \\\nBailey High School                81.033963       66.680064   \nCabrera High School               83.975780       94.133477   \nFigueroa High School              81.158020       65.988471   \nFord High School                  80.746258       68.309602   \nGriffin High School               83.816757       93.392371   \n\n                      % Passing Reading  % Overall Passing  \nBailey High School            81.933280          54.642283  \nCabrera High School           97.039828          91.334769  \nFigueroa High School          80.739234          53.204476  \nFord High School              79.299014          54.289887  \nGriffin High School           97.138965          90.599455  ",
      "text/html": "<div>\n<style scoped>\n    .dataframe tbody tr th:only-of-type {\n        vertical-align: middle;\n    }\n\n    .dataframe tbody tr th {\n        vertical-align: top;\n    }\n\n    .dataframe thead th {\n        text-align: right;\n    }\n</style>\n<table border=\"1\" class=\"dataframe\">\n  <thead>\n    <tr style=\"text-align: right;\">\n      <th></th>\n      <th>School Type</th>\n      <th>Total Students</th>\n      <th>Total School Budget</th>\n      <th>Per Student Budget</th>\n      <th>Average Math Score</th>\n      <th>Average Reading Score</th>\n      <th>% Passing Math</th>\n      <th>% Passing Reading</th>\n      <th>% Overall Passing</th>\n    </tr>\n  </thead>\n  <tbody>\n    <tr>\n      <th>Bailey High School</th>\n      <td>District</td>\n      <td>4976</td>\n      <td>3124928</td>\n      <td>628.0</td>\n      <td>77.048432</td>\n      <td>81.033963</td>\n      <td>66.680064</td>\n      <td>81.933280</td>\n      <td>54.642283</td>\n    </tr>\n    <tr>\n      <th>Cabrera High School</th>\n      <td>Charter</td>\n      <td>1858</td>\n      <td>1081356</td>\n      <td>582.0</td>\n      <td>83.061895</td>\n      <td>83.975780</td>\n      <td>94.133477</td>\n      <td>97.039828</td>\n      <td>91.334769</td>\n    </tr>\n    <tr>\n      <th>Figueroa High School</th>\n      <td>District</td>\n      <td>2949</td>\n      <td>1884411</td>\n      <td>639.0</td>\n      <td>76.711767</td>\n      <td>81.158020</td>\n      <td>65.988471</td>\n      <td>80.739234</td>\n      <td>53.204476</td>\n    </tr>\n    <tr>\n      <th>Ford High School</th>\n      <td>District</td>\n      <td>2739</td>\n      <td>1763916</td>\n      <td>644.0</td>\n      <td>77.102592</td>\n      <td>80.746258</td>\n      <td>68.309602</td>\n      <td>79.299014</td>\n      <td>54.289887</td>\n    </tr>\n    <tr>\n      <th>Griffin High School</th>\n      <td>Charter</td>\n      <td>1468</td>\n      <td>917500</td>\n      <td>625.0</td>\n      <td>83.351499</td>\n      <td>83.816757</td>\n      <td>93.392371</td>\n      <td>97.138965</td>\n      <td>90.599455</td>\n    </tr>\n  </tbody>\n</table>\n</div>"
     },
     "execution_count": 403,
     "metadata": {},
     "output_type": "execute_result"
    }
   ],
   "source": [
    "perSchoolSummaryDf = pd.DataFrame({\n",
    "    'School Type': perSchoolType,\n",
    "    'Total Students': perSchoolCount,\n",
    "    'Total School Budget': perSchoolBudget,\n",
    "    'Per Student Budget': perSchoolCapita,\n",
    "    'Average Math Score': perSchoolMath,\n",
    "    'Average Reading Score': perSchoolReading,\n",
    "    '% Passing Math': perSchoolPassingMath,\n",
    "    '% Passing Reading': perSchoolPassingReading,\n",
    "    '% Overall Passing': perOverallPassingPerc})\n",
    "perSchoolSummaryDf.head()"
   ],
   "metadata": {
    "collapsed": false,
    "pycharm": {
     "name": "#%%\n"
    }
   }
  },
  {
   "cell_type": "code",
   "execution_count": 404,
   "outputs": [
    {
     "data": {
      "text/plain": "                     School Type  Total Students Total School Budget  \\\nBailey High School      District            4976       $3,124,928.00   \nCabrera High School      Charter            1858       $1,081,356.00   \nFigueroa High School    District            2949       $1,884,411.00   \nFord High School        District            2739       $1,763,916.00   \nGriffin High School      Charter            1468         $917,500.00   \n\n                     Per Student Budget  Average Math Score  \\\nBailey High School              $628.00           77.048432   \nCabrera High School             $582.00           83.061895   \nFigueroa High School            $639.00           76.711767   \nFord High School                $644.00           77.102592   \nGriffin High School             $625.00           83.351499   \n\n                      Average Reading Score  % Passing Math  \\\nBailey High School                81.033963       66.680064   \nCabrera High School               83.975780       94.133477   \nFigueroa High School              81.158020       65.988471   \nFord High School                  80.746258       68.309602   \nGriffin High School               83.816757       93.392371   \n\n                      % Passing Reading  % Overall Passing  \nBailey High School            81.933280          54.642283  \nCabrera High School           97.039828          91.334769  \nFigueroa High School          80.739234          53.204476  \nFord High School              79.299014          54.289887  \nGriffin High School           97.138965          90.599455  ",
      "text/html": "<div>\n<style scoped>\n    .dataframe tbody tr th:only-of-type {\n        vertical-align: middle;\n    }\n\n    .dataframe tbody tr th {\n        vertical-align: top;\n    }\n\n    .dataframe thead th {\n        text-align: right;\n    }\n</style>\n<table border=\"1\" class=\"dataframe\">\n  <thead>\n    <tr style=\"text-align: right;\">\n      <th></th>\n      <th>School Type</th>\n      <th>Total Students</th>\n      <th>Total School Budget</th>\n      <th>Per Student Budget</th>\n      <th>Average Math Score</th>\n      <th>Average Reading Score</th>\n      <th>% Passing Math</th>\n      <th>% Passing Reading</th>\n      <th>% Overall Passing</th>\n    </tr>\n  </thead>\n  <tbody>\n    <tr>\n      <th>Bailey High School</th>\n      <td>District</td>\n      <td>4976</td>\n      <td>$3,124,928.00</td>\n      <td>$628.00</td>\n      <td>77.048432</td>\n      <td>81.033963</td>\n      <td>66.680064</td>\n      <td>81.933280</td>\n      <td>54.642283</td>\n    </tr>\n    <tr>\n      <th>Cabrera High School</th>\n      <td>Charter</td>\n      <td>1858</td>\n      <td>$1,081,356.00</td>\n      <td>$582.00</td>\n      <td>83.061895</td>\n      <td>83.975780</td>\n      <td>94.133477</td>\n      <td>97.039828</td>\n      <td>91.334769</td>\n    </tr>\n    <tr>\n      <th>Figueroa High School</th>\n      <td>District</td>\n      <td>2949</td>\n      <td>$1,884,411.00</td>\n      <td>$639.00</td>\n      <td>76.711767</td>\n      <td>81.158020</td>\n      <td>65.988471</td>\n      <td>80.739234</td>\n      <td>53.204476</td>\n    </tr>\n    <tr>\n      <th>Ford High School</th>\n      <td>District</td>\n      <td>2739</td>\n      <td>$1,763,916.00</td>\n      <td>$644.00</td>\n      <td>77.102592</td>\n      <td>80.746258</td>\n      <td>68.309602</td>\n      <td>79.299014</td>\n      <td>54.289887</td>\n    </tr>\n    <tr>\n      <th>Griffin High School</th>\n      <td>Charter</td>\n      <td>1468</td>\n      <td>$917,500.00</td>\n      <td>$625.00</td>\n      <td>83.351499</td>\n      <td>83.816757</td>\n      <td>93.392371</td>\n      <td>97.138965</td>\n      <td>90.599455</td>\n    </tr>\n  </tbody>\n</table>\n</div>"
     },
     "execution_count": 404,
     "metadata": {},
     "output_type": "execute_result"
    }
   ],
   "source": [
    "# Formatting the Total School Budget and the Per Student Budget columns.\n",
    "perSchoolSummaryDf['Total School Budget'] = perSchoolSummaryDf['Total School Budget'].map('${:,.2f}'.format)\n",
    "\n",
    "perSchoolSummaryDf['Per Student Budget'] = perSchoolSummaryDf['Per Student Budget'].map('${:,.2f}'.format)\n",
    "\n",
    "# Displaying the data frame\n",
    "perSchoolSummaryDf.head()"
   ],
   "metadata": {
    "collapsed": false,
    "pycharm": {
     "name": "#%%\n"
    }
   }
  },
  {
   "cell_type": "code",
   "execution_count": 405,
   "outputs": [
    {
     "data": {
      "text/plain": "                    School Type  Total Students Total School Budget  \\\nCabrera High School     Charter            1858       $1,081,356.00   \nThomas High School      Charter            1635       $1,043,130.00   \nGriffin High School     Charter            1468         $917,500.00   \nWilson High School      Charter            2283       $1,319,574.00   \nPena High School        Charter             962         $585,858.00   \n\n                    Per Student Budget  Average Math Score  \\\nCabrera High School            $582.00           83.061895   \nThomas High School             $638.00           83.418349   \nGriffin High School            $625.00           83.351499   \nWilson High School             $578.00           83.274201   \nPena High School               $609.00           83.839917   \n\n                     Average Reading Score  % Passing Math  % Passing Reading  \\\nCabrera High School              83.975780       94.133477          97.039828   \nThomas High School               83.848930       93.272171          97.308869   \nGriffin High School              83.816757       93.392371          97.138965   \nWilson High School               83.989488       93.867718          96.539641   \nPena High School                 84.044699       94.594595          95.945946   \n\n                     % Overall Passing  \nCabrera High School          91.334769  \nThomas High School           90.948012  \nGriffin High School          90.599455  \nWilson High School           90.582567  \nPena High School             90.540541  ",
      "text/html": "<div>\n<style scoped>\n    .dataframe tbody tr th:only-of-type {\n        vertical-align: middle;\n    }\n\n    .dataframe tbody tr th {\n        vertical-align: top;\n    }\n\n    .dataframe thead th {\n        text-align: right;\n    }\n</style>\n<table border=\"1\" class=\"dataframe\">\n  <thead>\n    <tr style=\"text-align: right;\">\n      <th></th>\n      <th>School Type</th>\n      <th>Total Students</th>\n      <th>Total School Budget</th>\n      <th>Per Student Budget</th>\n      <th>Average Math Score</th>\n      <th>Average Reading Score</th>\n      <th>% Passing Math</th>\n      <th>% Passing Reading</th>\n      <th>% Overall Passing</th>\n    </tr>\n  </thead>\n  <tbody>\n    <tr>\n      <th>Cabrera High School</th>\n      <td>Charter</td>\n      <td>1858</td>\n      <td>$1,081,356.00</td>\n      <td>$582.00</td>\n      <td>83.061895</td>\n      <td>83.975780</td>\n      <td>94.133477</td>\n      <td>97.039828</td>\n      <td>91.334769</td>\n    </tr>\n    <tr>\n      <th>Thomas High School</th>\n      <td>Charter</td>\n      <td>1635</td>\n      <td>$1,043,130.00</td>\n      <td>$638.00</td>\n      <td>83.418349</td>\n      <td>83.848930</td>\n      <td>93.272171</td>\n      <td>97.308869</td>\n      <td>90.948012</td>\n    </tr>\n    <tr>\n      <th>Griffin High School</th>\n      <td>Charter</td>\n      <td>1468</td>\n      <td>$917,500.00</td>\n      <td>$625.00</td>\n      <td>83.351499</td>\n      <td>83.816757</td>\n      <td>93.392371</td>\n      <td>97.138965</td>\n      <td>90.599455</td>\n    </tr>\n    <tr>\n      <th>Wilson High School</th>\n      <td>Charter</td>\n      <td>2283</td>\n      <td>$1,319,574.00</td>\n      <td>$578.00</td>\n      <td>83.274201</td>\n      <td>83.989488</td>\n      <td>93.867718</td>\n      <td>96.539641</td>\n      <td>90.582567</td>\n    </tr>\n    <tr>\n      <th>Pena High School</th>\n      <td>Charter</td>\n      <td>962</td>\n      <td>$585,858.00</td>\n      <td>$609.00</td>\n      <td>83.839917</td>\n      <td>84.044699</td>\n      <td>94.594595</td>\n      <td>95.945946</td>\n      <td>90.540541</td>\n    </tr>\n  </tbody>\n</table>\n</div>"
     },
     "execution_count": 405,
     "metadata": {},
     "output_type": "execute_result"
    }
   ],
   "source": [
    "topSchools = perSchoolSummaryDf.sort_values(['% Overall Passing'], ascending=False)\n",
    "topSchools.head()"
   ],
   "metadata": {
    "collapsed": false,
    "pycharm": {
     "name": "#%%\n"
    }
   }
  },
  {
   "cell_type": "code",
   "execution_count": 406,
   "outputs": [
    {
     "data": {
      "text/plain": "                      School Type  Total Students Total School Budget  \\\nRodriguez High School    District            3999       $2,547,363.00   \nFigueroa High School     District            2949       $1,884,411.00   \nHuang High School        District            2917       $1,910,635.00   \nHernandez High School    District            4635       $3,022,020.00   \nJohnson High School      District            4761       $3,094,650.00   \n\n                      Per Student Budget  Average Math Score  \\\nRodriguez High School            $637.00           76.842711   \nFigueroa High School             $639.00           76.711767   \nHuang High School                $655.00           76.629414   \nHernandez High School            $652.00           77.289752   \nJohnson High School              $650.00           77.072464   \n\n                       Average Reading Score  % Passing Math  \\\nRodriguez High School              80.744686       66.366592   \nFigueroa High School               81.158020       65.988471   \nHuang High School                  81.182722       65.683922   \nHernandez High School              80.934412       66.752967   \nJohnson High School                80.966394       66.057551   \n\n                       % Passing Reading  % Overall Passing  \nRodriguez High School          80.220055          52.988247  \nFigueroa High School           80.739234          53.204476  \nHuang High School              81.316421          53.513884  \nHernandez High School          80.862999          53.527508  \nJohnson High School            81.222432          53.539172  ",
      "text/html": "<div>\n<style scoped>\n    .dataframe tbody tr th:only-of-type {\n        vertical-align: middle;\n    }\n\n    .dataframe tbody tr th {\n        vertical-align: top;\n    }\n\n    .dataframe thead th {\n        text-align: right;\n    }\n</style>\n<table border=\"1\" class=\"dataframe\">\n  <thead>\n    <tr style=\"text-align: right;\">\n      <th></th>\n      <th>School Type</th>\n      <th>Total Students</th>\n      <th>Total School Budget</th>\n      <th>Per Student Budget</th>\n      <th>Average Math Score</th>\n      <th>Average Reading Score</th>\n      <th>% Passing Math</th>\n      <th>% Passing Reading</th>\n      <th>% Overall Passing</th>\n    </tr>\n  </thead>\n  <tbody>\n    <tr>\n      <th>Rodriguez High School</th>\n      <td>District</td>\n      <td>3999</td>\n      <td>$2,547,363.00</td>\n      <td>$637.00</td>\n      <td>76.842711</td>\n      <td>80.744686</td>\n      <td>66.366592</td>\n      <td>80.220055</td>\n      <td>52.988247</td>\n    </tr>\n    <tr>\n      <th>Figueroa High School</th>\n      <td>District</td>\n      <td>2949</td>\n      <td>$1,884,411.00</td>\n      <td>$639.00</td>\n      <td>76.711767</td>\n      <td>81.158020</td>\n      <td>65.988471</td>\n      <td>80.739234</td>\n      <td>53.204476</td>\n    </tr>\n    <tr>\n      <th>Huang High School</th>\n      <td>District</td>\n      <td>2917</td>\n      <td>$1,910,635.00</td>\n      <td>$655.00</td>\n      <td>76.629414</td>\n      <td>81.182722</td>\n      <td>65.683922</td>\n      <td>81.316421</td>\n      <td>53.513884</td>\n    </tr>\n    <tr>\n      <th>Hernandez High School</th>\n      <td>District</td>\n      <td>4635</td>\n      <td>$3,022,020.00</td>\n      <td>$652.00</td>\n      <td>77.289752</td>\n      <td>80.934412</td>\n      <td>66.752967</td>\n      <td>80.862999</td>\n      <td>53.527508</td>\n    </tr>\n    <tr>\n      <th>Johnson High School</th>\n      <td>District</td>\n      <td>4761</td>\n      <td>$3,094,650.00</td>\n      <td>$650.00</td>\n      <td>77.072464</td>\n      <td>80.966394</td>\n      <td>66.057551</td>\n      <td>81.222432</td>\n      <td>53.539172</td>\n    </tr>\n  </tbody>\n</table>\n</div>"
     },
     "execution_count": 406,
     "metadata": {},
     "output_type": "execute_result"
    }
   ],
   "source": [
    "bottomSchools = perSchoolSummaryDf.sort_values(['% Overall Passing'], ascending=True)\n",
    "bottomSchools.head()"
   ],
   "metadata": {
    "collapsed": false,
    "pycharm": {
     "name": "#%%\n"
    }
   }
  },
  {
   "cell_type": "code",
   "execution_count": 407,
   "outputs": [],
   "source": [
    "passingMath = schoolDataCompleteDf['math_score'] >= 70\n",
    "passingReading = schoolDataCompleteDf['reading_score'] >= 70"
   ],
   "metadata": {
    "collapsed": false,
    "pycharm": {
     "name": "#%%\n"
    }
   }
  },
  {
   "cell_type": "code",
   "execution_count": 408,
   "outputs": [],
   "source": [
    "# Creating a grade level DataFrames.\n",
    "ninthGraders = schoolDataCompleteDf[(schoolDataCompleteDf['grade'] == '9th')]\n",
    "\n",
    "tenthGraders = schoolDataCompleteDf[(schoolDataCompleteDf['grade'] == '10th')]\n",
    "\n",
    "eleventhGraders = schoolDataCompleteDf[(schoolDataCompleteDf['grade'] == '11th')]\n",
    "\n",
    "twelfthGraders = schoolDataCompleteDf[(schoolDataCompleteDf['grade'] == '12th')]"
   ],
   "metadata": {
    "collapsed": false,
    "pycharm": {
     "name": "#%%\n"
    }
   }
  },
  {
   "cell_type": "code",
   "execution_count": 409,
   "outputs": [
    {
     "data": {
      "text/plain": "       Student ID      student_name gender grade         school_name  \\\n0               0      Paul Bradley      M   9th   Huang High School   \n4               4        Bonnie Ray      F   9th   Huang High School   \n5               5     Bryan Miranda      M   9th   Huang High School   \n12             12   Brittney Walker      F   9th   Huang High School   \n13             13      William Long      M   9th   Huang High School   \n...           ...               ...    ...   ...                 ...   \n39152       39152        Lori Moore      F   9th  Thomas High School   \n39153       39153   William Hubbard      M   9th  Thomas High School   \n39157       39157  Kristen Gonzalez      F   9th  Thomas High School   \n39164       39164    Joseph Anthony      M   9th  Thomas High School   \n39167       39167    Rebecca Tanner      F   9th  Thomas High School   \n\n       reading_score  math_score  School ID      type  size   budget  \n0                 66          79          0  District  2917  1910635  \n4                 97          84          0  District  2917  1910635  \n5                 94          94          0  District  2917  1910635  \n12                64          79          0  District  2917  1910635  \n13                71          79          0  District  2917  1910635  \n...              ...         ...        ...       ...   ...      ...  \n39152             98          84         14   Charter  1635  1043130  \n39153             80          75         14   Charter  1635  1043130  \n39157             79          94         14   Charter  1635  1043130  \n39164             97          76         14   Charter  1635  1043130  \n39167             73          84         14   Charter  1635  1043130  \n\n[11408 rows x 11 columns]",
      "text/html": "<div>\n<style scoped>\n    .dataframe tbody tr th:only-of-type {\n        vertical-align: middle;\n    }\n\n    .dataframe tbody tr th {\n        vertical-align: top;\n    }\n\n    .dataframe thead th {\n        text-align: right;\n    }\n</style>\n<table border=\"1\" class=\"dataframe\">\n  <thead>\n    <tr style=\"text-align: right;\">\n      <th></th>\n      <th>Student ID</th>\n      <th>student_name</th>\n      <th>gender</th>\n      <th>grade</th>\n      <th>school_name</th>\n      <th>reading_score</th>\n      <th>math_score</th>\n      <th>School ID</th>\n      <th>type</th>\n      <th>size</th>\n      <th>budget</th>\n    </tr>\n  </thead>\n  <tbody>\n    <tr>\n      <th>0</th>\n      <td>0</td>\n      <td>Paul Bradley</td>\n      <td>M</td>\n      <td>9th</td>\n      <td>Huang High School</td>\n      <td>66</td>\n      <td>79</td>\n      <td>0</td>\n      <td>District</td>\n      <td>2917</td>\n      <td>1910635</td>\n    </tr>\n    <tr>\n      <th>4</th>\n      <td>4</td>\n      <td>Bonnie Ray</td>\n      <td>F</td>\n      <td>9th</td>\n      <td>Huang High School</td>\n      <td>97</td>\n      <td>84</td>\n      <td>0</td>\n      <td>District</td>\n      <td>2917</td>\n      <td>1910635</td>\n    </tr>\n    <tr>\n      <th>5</th>\n      <td>5</td>\n      <td>Bryan Miranda</td>\n      <td>M</td>\n      <td>9th</td>\n      <td>Huang High School</td>\n      <td>94</td>\n      <td>94</td>\n      <td>0</td>\n      <td>District</td>\n      <td>2917</td>\n      <td>1910635</td>\n    </tr>\n    <tr>\n      <th>12</th>\n      <td>12</td>\n      <td>Brittney Walker</td>\n      <td>F</td>\n      <td>9th</td>\n      <td>Huang High School</td>\n      <td>64</td>\n      <td>79</td>\n      <td>0</td>\n      <td>District</td>\n      <td>2917</td>\n      <td>1910635</td>\n    </tr>\n    <tr>\n      <th>13</th>\n      <td>13</td>\n      <td>William Long</td>\n      <td>M</td>\n      <td>9th</td>\n      <td>Huang High School</td>\n      <td>71</td>\n      <td>79</td>\n      <td>0</td>\n      <td>District</td>\n      <td>2917</td>\n      <td>1910635</td>\n    </tr>\n    <tr>\n      <th>...</th>\n      <td>...</td>\n      <td>...</td>\n      <td>...</td>\n      <td>...</td>\n      <td>...</td>\n      <td>...</td>\n      <td>...</td>\n      <td>...</td>\n      <td>...</td>\n      <td>...</td>\n      <td>...</td>\n    </tr>\n    <tr>\n      <th>39152</th>\n      <td>39152</td>\n      <td>Lori Moore</td>\n      <td>F</td>\n      <td>9th</td>\n      <td>Thomas High School</td>\n      <td>98</td>\n      <td>84</td>\n      <td>14</td>\n      <td>Charter</td>\n      <td>1635</td>\n      <td>1043130</td>\n    </tr>\n    <tr>\n      <th>39153</th>\n      <td>39153</td>\n      <td>William Hubbard</td>\n      <td>M</td>\n      <td>9th</td>\n      <td>Thomas High School</td>\n      <td>80</td>\n      <td>75</td>\n      <td>14</td>\n      <td>Charter</td>\n      <td>1635</td>\n      <td>1043130</td>\n    </tr>\n    <tr>\n      <th>39157</th>\n      <td>39157</td>\n      <td>Kristen Gonzalez</td>\n      <td>F</td>\n      <td>9th</td>\n      <td>Thomas High School</td>\n      <td>79</td>\n      <td>94</td>\n      <td>14</td>\n      <td>Charter</td>\n      <td>1635</td>\n      <td>1043130</td>\n    </tr>\n    <tr>\n      <th>39164</th>\n      <td>39164</td>\n      <td>Joseph Anthony</td>\n      <td>M</td>\n      <td>9th</td>\n      <td>Thomas High School</td>\n      <td>97</td>\n      <td>76</td>\n      <td>14</td>\n      <td>Charter</td>\n      <td>1635</td>\n      <td>1043130</td>\n    </tr>\n    <tr>\n      <th>39167</th>\n      <td>39167</td>\n      <td>Rebecca Tanner</td>\n      <td>F</td>\n      <td>9th</td>\n      <td>Thomas High School</td>\n      <td>73</td>\n      <td>84</td>\n      <td>14</td>\n      <td>Charter</td>\n      <td>1635</td>\n      <td>1043130</td>\n    </tr>\n  </tbody>\n</table>\n<p>11408 rows × 11 columns</p>\n</div>"
     },
     "execution_count": 409,
     "metadata": {},
     "output_type": "execute_result"
    }
   ],
   "source": [
    "ninthGraders"
   ],
   "metadata": {
    "collapsed": false,
    "pycharm": {
     "name": "#%%\n"
    }
   }
  },
  {
   "cell_type": "code",
   "execution_count": 410,
   "outputs": [],
   "source": [
    "ninthGradersMathScores = ninthGraders.groupby(['school_name']).mean()['math_score']\n",
    "\n",
    "tenthGradersMathScores = tenthGraders.groupby(['school_name']).mean()['math_score']\n",
    "\n",
    "eleventhGradersMathScores = eleventhGraders.groupby(['school_name']).mean()['math_score']\n",
    "\n",
    "twelfthGradersMathScores = twelfthGraders.groupby(['school_name']).mean()['math_score']"
   ],
   "metadata": {
    "collapsed": false,
    "pycharm": {
     "name": "#%%\n"
    }
   }
  },
  {
   "cell_type": "code",
   "execution_count": 411,
   "outputs": [
    {
     "data": {
      "text/plain": "school_name\nBailey High School       77.083676\nCabrera High School      83.094697\nFigueroa High School     76.403037\nFord High School         77.361345\nGriffin High School      82.044010\nHernandez High School    77.438495\nHolden High School       83.787402\nHuang High School        77.027251\nJohnson High School      77.187857\nPena High School         83.625455\nRodriguez High School    76.859966\nShelton High School      83.420755\nThomas High School       83.590022\nWilson High School       83.085578\nWright High School       83.264706\nName: math_score, dtype: float64"
     },
     "execution_count": 411,
     "metadata": {},
     "output_type": "execute_result"
    }
   ],
   "source": [
    "ninthGradersMathScores"
   ],
   "metadata": {
    "collapsed": false,
    "pycharm": {
     "name": "#%%\n"
    }
   }
  },
  {
   "cell_type": "code",
   "execution_count": 412,
   "outputs": [
    {
     "data": {
      "text/plain": "school_name\nBailey High School       77.515588\nCabrera High School      82.765560\nFigueroa High School     76.884344\nFord High School         76.918058\nGriffin High School      83.842105\nHernandez High School    77.136029\nHolden High School       85.000000\nHuang High School        76.446602\nJohnson High School      77.491653\nPena High School         84.328125\nRodriguez High School    76.395626\nShelton High School      83.383495\nThomas High School       83.498795\nWilson High School       83.195326\nWright High School       83.836782\nName: math_score, dtype: float64"
     },
     "execution_count": 412,
     "metadata": {},
     "output_type": "execute_result"
    }
   ],
   "source": [
    "eleventhGradersMathScores"
   ],
   "metadata": {
    "collapsed": false,
    "pycharm": {
     "name": "#%%\n"
    }
   }
  },
  {
   "cell_type": "code",
   "execution_count": 413,
   "outputs": [],
   "source": [
    "ninthGradersReadingScores = ninthGraders.groupby(['school_name']).mean()['reading_score']\n",
    "\n",
    "tenthGradersReadingScores = tenthGraders.groupby(['school_name']).mean()['reading_score']\n",
    "\n",
    "eleventhGradersReadingScores = eleventhGraders.groupby(['school_name']).mean()['reading_score']\n",
    "\n",
    "twelfthGradersReadingScores = twelfthGraders.groupby(['school_name']).mean()['reading_score']"
   ],
   "metadata": {
    "collapsed": false,
    "pycharm": {
     "name": "#%%\n"
    }
   }
  },
  {
   "cell_type": "code",
   "execution_count": 414,
   "outputs": [
    {
     "data": {
      "text/plain": "school_name\nBailey High School       81.303155\nCabrera High School      83.676136\nFigueroa High School     81.198598\nFord High School         80.632653\nGriffin High School      83.369193\nHernandez High School    80.866860\nHolden High School       83.677165\nHuang High School        81.290284\nJohnson High School      81.260714\nPena High School         83.807273\nRodriguez High School    80.993127\nShelton High School      84.122642\nThomas High School       83.728850\nWilson High School       83.939778\nWright High School       83.833333\nName: reading_score, dtype: float64"
     },
     "execution_count": 414,
     "metadata": {},
     "output_type": "execute_result"
    }
   ],
   "source": [
    "ninthGradersReadingScores"
   ],
   "metadata": {
    "collapsed": false,
    "pycharm": {
     "name": "#%%\n"
    }
   }
  },
  {
   "cell_type": "code",
   "execution_count": 415,
   "outputs": [
    {
     "data": {
      "text/plain": "school_name\nBailey High School       80.912451\nCabrera High School      84.287958\nFigueroa High School     81.384863\nFord High School         80.662338\nGriffin High School      84.013699\nHernandez High School    80.857143\nHolden High School       84.698795\nHuang High School        80.305983\nJohnson High School      81.227564\nPena High School         84.591160\nRodriguez High School    80.376426\nShelton High School      82.781671\nThomas High School       83.831361\nWilson High School       84.317673\nWright High School       84.073171\nName: reading_score, dtype: float64"
     },
     "execution_count": 415,
     "metadata": {},
     "output_type": "execute_result"
    }
   ],
   "source": [
    "twelfthGradersReadingScores"
   ],
   "metadata": {
    "collapsed": false,
    "pycharm": {
     "name": "#%%\n"
    }
   }
  },
  {
   "cell_type": "code",
   "execution_count": 416,
   "outputs": [
    {
     "data": {
      "text/plain": "                             9th       10th       11th       12th\nschool_name                                                      \nBailey High School     77.083676  76.996772  77.515588  76.492218\nCabrera High School    83.094697  83.154506  82.765560  83.277487\nFigueroa High School   76.403037  76.539974  76.884344  77.151369\nFord High School       77.361345  77.672316  76.918058  76.179963\nGriffin High School    82.044010  84.229064  83.842105  83.356164\nHernandez High School  77.438495  77.337408  77.136029  77.186567\nHolden High School     83.787402  83.429825  85.000000  82.855422\nHuang High School      77.027251  75.908735  76.446602  77.225641\nJohnson High School    77.187857  76.691117  77.491653  76.863248\nPena High School       83.625455  83.372000  84.328125  84.121547\nRodriguez High School  76.859966  76.612500  76.395626  77.690748\nShelton High School    83.420755  82.917411  83.383495  83.778976\nThomas High School     83.590022  83.087886  83.498795  83.497041\nWilson High School     83.085578  83.724422  83.195326  83.035794\nWright High School     83.264706  84.010288  83.836782  83.644986",
      "text/html": "<div>\n<style scoped>\n    .dataframe tbody tr th:only-of-type {\n        vertical-align: middle;\n    }\n\n    .dataframe tbody tr th {\n        vertical-align: top;\n    }\n\n    .dataframe thead th {\n        text-align: right;\n    }\n</style>\n<table border=\"1\" class=\"dataframe\">\n  <thead>\n    <tr style=\"text-align: right;\">\n      <th></th>\n      <th>9th</th>\n      <th>10th</th>\n      <th>11th</th>\n      <th>12th</th>\n    </tr>\n    <tr>\n      <th>school_name</th>\n      <th></th>\n      <th></th>\n      <th></th>\n      <th></th>\n    </tr>\n  </thead>\n  <tbody>\n    <tr>\n      <th>Bailey High School</th>\n      <td>77.083676</td>\n      <td>76.996772</td>\n      <td>77.515588</td>\n      <td>76.492218</td>\n    </tr>\n    <tr>\n      <th>Cabrera High School</th>\n      <td>83.094697</td>\n      <td>83.154506</td>\n      <td>82.765560</td>\n      <td>83.277487</td>\n    </tr>\n    <tr>\n      <th>Figueroa High School</th>\n      <td>76.403037</td>\n      <td>76.539974</td>\n      <td>76.884344</td>\n      <td>77.151369</td>\n    </tr>\n    <tr>\n      <th>Ford High School</th>\n      <td>77.361345</td>\n      <td>77.672316</td>\n      <td>76.918058</td>\n      <td>76.179963</td>\n    </tr>\n    <tr>\n      <th>Griffin High School</th>\n      <td>82.044010</td>\n      <td>84.229064</td>\n      <td>83.842105</td>\n      <td>83.356164</td>\n    </tr>\n    <tr>\n      <th>Hernandez High School</th>\n      <td>77.438495</td>\n      <td>77.337408</td>\n      <td>77.136029</td>\n      <td>77.186567</td>\n    </tr>\n    <tr>\n      <th>Holden High School</th>\n      <td>83.787402</td>\n      <td>83.429825</td>\n      <td>85.000000</td>\n      <td>82.855422</td>\n    </tr>\n    <tr>\n      <th>Huang High School</th>\n      <td>77.027251</td>\n      <td>75.908735</td>\n      <td>76.446602</td>\n      <td>77.225641</td>\n    </tr>\n    <tr>\n      <th>Johnson High School</th>\n      <td>77.187857</td>\n      <td>76.691117</td>\n      <td>77.491653</td>\n      <td>76.863248</td>\n    </tr>\n    <tr>\n      <th>Pena High School</th>\n      <td>83.625455</td>\n      <td>83.372000</td>\n      <td>84.328125</td>\n      <td>84.121547</td>\n    </tr>\n    <tr>\n      <th>Rodriguez High School</th>\n      <td>76.859966</td>\n      <td>76.612500</td>\n      <td>76.395626</td>\n      <td>77.690748</td>\n    </tr>\n    <tr>\n      <th>Shelton High School</th>\n      <td>83.420755</td>\n      <td>82.917411</td>\n      <td>83.383495</td>\n      <td>83.778976</td>\n    </tr>\n    <tr>\n      <th>Thomas High School</th>\n      <td>83.590022</td>\n      <td>83.087886</td>\n      <td>83.498795</td>\n      <td>83.497041</td>\n    </tr>\n    <tr>\n      <th>Wilson High School</th>\n      <td>83.085578</td>\n      <td>83.724422</td>\n      <td>83.195326</td>\n      <td>83.035794</td>\n    </tr>\n    <tr>\n      <th>Wright High School</th>\n      <td>83.264706</td>\n      <td>84.010288</td>\n      <td>83.836782</td>\n      <td>83.644986</td>\n    </tr>\n  </tbody>\n</table>\n</div>"
     },
     "execution_count": 416,
     "metadata": {},
     "output_type": "execute_result"
    }
   ],
   "source": [
    "mathScoresByGrade = pd.DataFrame({\n",
    "    '9th': ninthGradersMathScores,\n",
    "    '10th': tenthGradersMathScores,\n",
    "    '11th': eleventhGradersMathScores,\n",
    "    '12th': twelfthGradersMathScores\n",
    "})\n",
    "mathScoresByGrade"
   ],
   "metadata": {
    "collapsed": false,
    "pycharm": {
     "name": "#%%\n"
    }
   }
  },
  {
   "cell_type": "code",
   "execution_count": 417,
   "outputs": [
    {
     "data": {
      "text/plain": "                             9th       10th       11th       12th\nschool_name                                                      \nBailey High School     81.303155  80.907183  80.945643  80.912451\nCabrera High School    83.676136  84.253219  83.788382  84.287958\nFigueroa High School   81.198598  81.408912  80.640339  81.384863\nFord High School       80.632653  81.262712  80.403642  80.662338\nGriffin High School    83.369193  83.706897  84.288089  84.013699\nHernandez High School  80.866860  80.660147  81.396140  80.857143\nHolden High School     83.677165  83.324561  83.815534  84.698795\nHuang High School      81.290284  81.512386  81.417476  80.305983\nJohnson High School    81.260714  80.773431  80.616027  81.227564\nPena High School       83.807273  83.612000  84.335938  84.591160\nRodriguez High School  80.993127  80.629808  80.864811  80.376426\nShelton High School    84.122642  83.441964  84.373786  82.781671\nThomas High School     83.728850  84.254157  83.585542  83.831361\nWilson High School     83.939778  84.021452  83.764608  84.317673\nWright High School     83.833333  83.812757  84.156322  84.073171",
      "text/html": "<div>\n<style scoped>\n    .dataframe tbody tr th:only-of-type {\n        vertical-align: middle;\n    }\n\n    .dataframe tbody tr th {\n        vertical-align: top;\n    }\n\n    .dataframe thead th {\n        text-align: right;\n    }\n</style>\n<table border=\"1\" class=\"dataframe\">\n  <thead>\n    <tr style=\"text-align: right;\">\n      <th></th>\n      <th>9th</th>\n      <th>10th</th>\n      <th>11th</th>\n      <th>12th</th>\n    </tr>\n    <tr>\n      <th>school_name</th>\n      <th></th>\n      <th></th>\n      <th></th>\n      <th></th>\n    </tr>\n  </thead>\n  <tbody>\n    <tr>\n      <th>Bailey High School</th>\n      <td>81.303155</td>\n      <td>80.907183</td>\n      <td>80.945643</td>\n      <td>80.912451</td>\n    </tr>\n    <tr>\n      <th>Cabrera High School</th>\n      <td>83.676136</td>\n      <td>84.253219</td>\n      <td>83.788382</td>\n      <td>84.287958</td>\n    </tr>\n    <tr>\n      <th>Figueroa High School</th>\n      <td>81.198598</td>\n      <td>81.408912</td>\n      <td>80.640339</td>\n      <td>81.384863</td>\n    </tr>\n    <tr>\n      <th>Ford High School</th>\n      <td>80.632653</td>\n      <td>81.262712</td>\n      <td>80.403642</td>\n      <td>80.662338</td>\n    </tr>\n    <tr>\n      <th>Griffin High School</th>\n      <td>83.369193</td>\n      <td>83.706897</td>\n      <td>84.288089</td>\n      <td>84.013699</td>\n    </tr>\n    <tr>\n      <th>Hernandez High School</th>\n      <td>80.866860</td>\n      <td>80.660147</td>\n      <td>81.396140</td>\n      <td>80.857143</td>\n    </tr>\n    <tr>\n      <th>Holden High School</th>\n      <td>83.677165</td>\n      <td>83.324561</td>\n      <td>83.815534</td>\n      <td>84.698795</td>\n    </tr>\n    <tr>\n      <th>Huang High School</th>\n      <td>81.290284</td>\n      <td>81.512386</td>\n      <td>81.417476</td>\n      <td>80.305983</td>\n    </tr>\n    <tr>\n      <th>Johnson High School</th>\n      <td>81.260714</td>\n      <td>80.773431</td>\n      <td>80.616027</td>\n      <td>81.227564</td>\n    </tr>\n    <tr>\n      <th>Pena High School</th>\n      <td>83.807273</td>\n      <td>83.612000</td>\n      <td>84.335938</td>\n      <td>84.591160</td>\n    </tr>\n    <tr>\n      <th>Rodriguez High School</th>\n      <td>80.993127</td>\n      <td>80.629808</td>\n      <td>80.864811</td>\n      <td>80.376426</td>\n    </tr>\n    <tr>\n      <th>Shelton High School</th>\n      <td>84.122642</td>\n      <td>83.441964</td>\n      <td>84.373786</td>\n      <td>82.781671</td>\n    </tr>\n    <tr>\n      <th>Thomas High School</th>\n      <td>83.728850</td>\n      <td>84.254157</td>\n      <td>83.585542</td>\n      <td>83.831361</td>\n    </tr>\n    <tr>\n      <th>Wilson High School</th>\n      <td>83.939778</td>\n      <td>84.021452</td>\n      <td>83.764608</td>\n      <td>84.317673</td>\n    </tr>\n    <tr>\n      <th>Wright High School</th>\n      <td>83.833333</td>\n      <td>83.812757</td>\n      <td>84.156322</td>\n      <td>84.073171</td>\n    </tr>\n  </tbody>\n</table>\n</div>"
     },
     "execution_count": 417,
     "metadata": {},
     "output_type": "execute_result"
    }
   ],
   "source": [
    "readingScoresByGrade = pd.DataFrame({\n",
    "    '9th': ninthGradersReadingScores,\n",
    "    '10th': tenthGradersReadingScores,\n",
    "    '11th': eleventhGradersReadingScores,\n",
    "    '12th': twelfthGradersReadingScores\n",
    "})\n",
    "readingScoresByGrade"
   ],
   "metadata": {
    "collapsed": false,
    "pycharm": {
     "name": "#%%\n"
    }
   }
  },
  {
   "cell_type": "code",
   "execution_count": 418,
   "outputs": [
    {
     "data": {
      "text/plain": "                       9th  10th  11th  12th\nBailey High School    77.1  77.0  77.5  76.5\nCabrera High School   83.1  83.2  82.8  83.3\nFigueroa High School  76.4  76.5  76.9  77.2\nFord High School      77.4  77.7  76.9  76.2\nGriffin High School   82.0  84.2  83.8  83.4",
      "text/html": "<div>\n<style scoped>\n    .dataframe tbody tr th:only-of-type {\n        vertical-align: middle;\n    }\n\n    .dataframe tbody tr th {\n        vertical-align: top;\n    }\n\n    .dataframe thead th {\n        text-align: right;\n    }\n</style>\n<table border=\"1\" class=\"dataframe\">\n  <thead>\n    <tr style=\"text-align: right;\">\n      <th></th>\n      <th>9th</th>\n      <th>10th</th>\n      <th>11th</th>\n      <th>12th</th>\n    </tr>\n  </thead>\n  <tbody>\n    <tr>\n      <th>Bailey High School</th>\n      <td>77.1</td>\n      <td>77.0</td>\n      <td>77.5</td>\n      <td>76.5</td>\n    </tr>\n    <tr>\n      <th>Cabrera High School</th>\n      <td>83.1</td>\n      <td>83.2</td>\n      <td>82.8</td>\n      <td>83.3</td>\n    </tr>\n    <tr>\n      <th>Figueroa High School</th>\n      <td>76.4</td>\n      <td>76.5</td>\n      <td>76.9</td>\n      <td>77.2</td>\n    </tr>\n    <tr>\n      <th>Ford High School</th>\n      <td>77.4</td>\n      <td>77.7</td>\n      <td>76.9</td>\n      <td>76.2</td>\n    </tr>\n    <tr>\n      <th>Griffin High School</th>\n      <td>82.0</td>\n      <td>84.2</td>\n      <td>83.8</td>\n      <td>83.4</td>\n    </tr>\n  </tbody>\n</table>\n</div>"
     },
     "execution_count": 418,
     "metadata": {},
     "output_type": "execute_result"
    }
   ],
   "source": [
    "#formattig math scores to one decimal place\n",
    "mathScoresByGrade['9th'] = mathScoresByGrade['9th'].map('{:.1f}'.format)\n",
    "mathScoresByGrade['10th'] = mathScoresByGrade['10th'].map('{:.1f}'.format)\n",
    "mathScoresByGrade['11th'] = mathScoresByGrade['11th'].map('{:.1f}'.format)\n",
    "mathScoresByGrade['12th'] = mathScoresByGrade['12th'].map('{:.1f}'.format)\n",
    "\n",
    "# Making sure the columns are in the correct order.'\n",
    "mathScoresByGrade = mathScoresByGrade[['9th','10th','11th','12th']]\n",
    "#Removing index name\n",
    "mathScoresByGrade.index.name = None\n",
    "\n",
    "mathScoresByGrade.head()"
   ],
   "metadata": {
    "collapsed": false,
    "pycharm": {
     "name": "#%%\n"
    }
   }
  },
  {
   "cell_type": "code",
   "execution_count": 419,
   "outputs": [
    {
     "data": {
      "text/plain": "                       9th  10th  11th  12th\nBailey High School    81.3  80.9  80.9  80.9\nCabrera High School   83.7  84.3  83.8  84.3\nFigueroa High School  81.2  81.4  80.6  81.4\nFord High School      80.6  81.3  80.4  80.7\nGriffin High School   83.4  83.7  84.3  84.0",
      "text/html": "<div>\n<style scoped>\n    .dataframe tbody tr th:only-of-type {\n        vertical-align: middle;\n    }\n\n    .dataframe tbody tr th {\n        vertical-align: top;\n    }\n\n    .dataframe thead th {\n        text-align: right;\n    }\n</style>\n<table border=\"1\" class=\"dataframe\">\n  <thead>\n    <tr style=\"text-align: right;\">\n      <th></th>\n      <th>9th</th>\n      <th>10th</th>\n      <th>11th</th>\n      <th>12th</th>\n    </tr>\n  </thead>\n  <tbody>\n    <tr>\n      <th>Bailey High School</th>\n      <td>81.3</td>\n      <td>80.9</td>\n      <td>80.9</td>\n      <td>80.9</td>\n    </tr>\n    <tr>\n      <th>Cabrera High School</th>\n      <td>83.7</td>\n      <td>84.3</td>\n      <td>83.8</td>\n      <td>84.3</td>\n    </tr>\n    <tr>\n      <th>Figueroa High School</th>\n      <td>81.2</td>\n      <td>81.4</td>\n      <td>80.6</td>\n      <td>81.4</td>\n    </tr>\n    <tr>\n      <th>Ford High School</th>\n      <td>80.6</td>\n      <td>81.3</td>\n      <td>80.4</td>\n      <td>80.7</td>\n    </tr>\n    <tr>\n      <th>Griffin High School</th>\n      <td>83.4</td>\n      <td>83.7</td>\n      <td>84.3</td>\n      <td>84.0</td>\n    </tr>\n  </tbody>\n</table>\n</div>"
     },
     "execution_count": 419,
     "metadata": {},
     "output_type": "execute_result"
    }
   ],
   "source": [
    "#formattig reading scores to one decimal place\n",
    "readingScoresByGrade['9th'] = readingScoresByGrade['9th'].map('{:.1f}'.format)\n",
    "readingScoresByGrade['10th'] = readingScoresByGrade['10th'].map('{:.1f}'.format)\n",
    "readingScoresByGrade['11th'] = readingScoresByGrade['11th'].map('{:.1f}'.format)\n",
    "readingScoresByGrade['12th'] = readingScoresByGrade['12th'].map('{:.1f}'.format)\n",
    "\n",
    "# Making sure the columns are in the correct order.'\n",
    "readingScoresByGrade = readingScoresByGrade[['9th','10th','11th','12th']]\n",
    "#Removing index name\n",
    "readingScoresByGrade.index.name = None\n",
    "\n",
    "readingScoresByGrade.head()"
   ],
   "metadata": {
    "collapsed": false,
    "pycharm": {
     "name": "#%%\n"
    }
   }
  }
 ],
 "metadata": {
  "kernelspec": {
   "display_name": "PythonData",
   "language": "python",
   "name": "pythondata"
  },
  "language_info": {
   "codemirror_mode": {
    "name": "ipython",
    "version": 3
   },
   "file_extension": ".py",
   "mimetype": "text/x-python",
   "name": "python",
   "nbconvert_exporter": "python",
   "pygments_lexer": "ipython3",
   "version": "3.7.10"
  }
 },
 "nbformat": 4,
 "nbformat_minor": 5
}